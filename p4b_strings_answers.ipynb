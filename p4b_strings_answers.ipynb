{
 "cells": [
  {
   "cell_type": "code",
   "execution_count": 23,
   "metadata": {},
   "outputs": [
    {
     "name": "stdout",
     "output_type": "stream",
     "text": [
      "AT %: 68.51851851851852\n"
     ]
    }
   ],
   "source": [
    "dna = 'ACTGATCGATTACGTATAGTATTTGCTATCATACATATATATCGATGCGTTCAT'\n",
    "\n",
    "def at_percentage(dnastring):\n",
    "    \"\"\"Return the AT percentage of string of DNA bases\n",
    "    \n",
    "    dnastring - string of DNA bases, containing only A, C, T or G - str\n",
    "    returns - AT% - float\"\"\"\n",
    "    a_count = dnastring.count('A')\n",
    "    t_count = dnastring.count('T')\n",
    "    length = len(dnastring)\n",
    "    return (a_count + t_count) / length * 100\n",
    "\n",
    "at = at_percentage(dna)\n",
    "print('AT %:', at)\n",
    "\n",
    "test = 'GATACCA'\n",
    "expected = (3 + 1)/len(test) * 100\n",
    "result = at_percentage(test)\n",
    "assert expected == result, \"expected \" + str(expected) + \" got \" + str(result)"
   ]
  },
  {
   "cell_type": "code",
   "execution_count": 12,
   "metadata": {},
   "outputs": [
    {
     "name": "stdout",
     "output_type": "stream",
     "text": [
      "left fragment length: 22 right fragment length: 33\n",
      "No match for GAATTC\n"
     ]
    }
   ],
   "source": [
    "dna = 'ACTGATCGATTACGTATAGTAGAATTCTATCATACATATATATCGATGCGTTCAT'\n",
    "\n",
    "def fragment_lengths(dnastring, motif):\n",
    "    match_pos = dnastring.find(motif)\n",
    "    if match_pos != -1:\n",
    "        l_fragment = dnastring[:match_pos + 1]\n",
    "        r_fragment = dnastring[match_pos + 1:]\n",
    "        # print(l_fragment, r_fragment)\n",
    "        return(len(l_fragment), len(r_fragment))\n",
    "    else:\n",
    "        print(\"No match for\", motif)\n",
    "        return (-1, -1)\n",
    "\n",
    "motif = 'GAATTC'\n",
    "(l_length, r_length) = fragment_lengths(dna, motif)\n",
    "print(\"left fragment length:\", l_length, \"right fragment length:\", r_length)\n",
    "\n",
    "test1 = 'TAGTAGAATTCT'\n",
    "(l_length1, r_length1) = fragment_lengths(test1, motif)\n",
    "expected_l1 = 6\n",
    "expected_r1 = 6\n",
    "assert expected_l1 == l_length1 and expected_r1 == r_length1, \"expected (\" + str(expected_l1) + \",\" + str(expected_r1) + \") got (\" + str(l_length1) + \",\" + str(r_length1) + \")\" \n",
    "\n",
    "test2 = 'GATACCA'\n",
    "(l_length2, r_length2) = fragment_lengths(test2, motif)\n",
    "expected_l2 = -1\n",
    "expected_r2 = -1\n",
    "assert expected_l2 == l_length2 and expected_r2 == r_length2, \"expected (\" + str(expected_l2) + \",\" + str(expected_r2) + \") got (\" + str(l_length2) + \",\" + str(r_length2) + \")\" \n"
   ]
  },
  {
   "cell_type": "code",
   "execution_count": 19,
   "metadata": {},
   "outputs": [
    {
     "name": "stdout",
     "output_type": "stream",
     "text": [
      "23 32\n"
     ]
    }
   ],
   "source": [
    "\n",
    "def fragment_lengths2(dnastring, motif):\n",
    "    assert motif.find('*') != -1, \"could not find * in motif (\" + motif + \")\"\n",
    "    offset = motif.find('*')\n",
    "    motif = motif.replace('*', '')\n",
    "    match_pos = dnastring.find(motif)\n",
    "    if match_pos != -1:\n",
    "        l_fragment = dnastring[:match_pos + offset]\n",
    "        r_fragment = dnastring[match_pos + offset:]\n",
    "        # print(l_fragment, r_fragment)\n",
    "        return(len(l_fragment), len(r_fragment))\n",
    "    else:\n",
    "        print(\"No match for\", motif)\n",
    "        return (-1, -1)\n",
    "    \n",
    "motif2 = 'GA*ATTC'\n",
    "(l_length2, r_length2) = fragment_lengths2(dna, motif2)\n",
    "print(l_length2, r_length2)"
   ]
  },
  {
   "cell_type": "code",
   "execution_count": 21,
   "metadata": {},
   "outputs": [
    {
     "name": "stdout",
     "output_type": "stream",
     "text": [
      "68.51851851851852\n"
     ]
    }
   ],
   "source": [
    "# Cecil\n",
    "dna = 'ACTGATCGATTACGTATAGTATTTGCTATCATACATATATATCGATGCGTTCAT'\n",
    "\n",
    "t_count = dna.count('T')\n",
    "a_count = dna.count('A')\n",
    "t_a_count = (t_count + a_count) / len(dna) * 100\n",
    "print(t_a_count)"
   ]
  },
  {
   "cell_type": "code",
   "execution_count": 27,
   "metadata": {},
   "outputs": [
    {
     "name": "stdout",
     "output_type": "stream",
     "text": [
      "22\n",
      "the first part of the sequence is ACTGATCGATTACGTATAGTAG\n",
      "the second part of the sequence is AATTCTATCATACATATATATCGATGCGTTCAT\n",
      "length of the first part is 22\n",
      "length of the second part is 33\n"
     ]
    }
   ],
   "source": [
    "# Maryam \n",
    "#                                    MMMMMM\n",
    "dna_sequence = 'ACTGATCGATTACGTATAGTAGAATTCTATCATACATATATATCGATGCGTTCAT'\n",
    "#               123456789012345678901234567890\n",
    "#                        111111111122222222223\n",
    "# original motif = 'G*AATTC'\n",
    "#                    ^ cut site\n",
    "my_motif = dna_sequence.find('AATTC')\n",
    "print(my_motif)\n",
    "first_part = dna_sequence[0:my_motif]\n",
    "second_part = dna_sequence[my_motif:]\n",
    "a = len(first_part)\n",
    "b = len(second_part)\n",
    "print('the first part of the sequence is', first_part)\n",
    "print('the second part of the sequence is', second_part)\n",
    "print('length of the first part is', a)\n",
    "print('length of the second part is', b)"
   ]
  },
  {
   "cell_type": "code",
   "execution_count": 26,
   "metadata": {},
   "outputs": [
    {
     "name": "stdout",
     "output_type": "stream",
     "text": [
      "length of fragment 1 is 22\n",
      "length of fragment 2 is 33\n"
     ]
    }
   ],
   "source": [
    "# Amy\n",
    "dna = 'ACTGATCGATTACGTATAGTAGAATTCTATCATACATATATATCGATGCGTTCAT'\n",
    "\n",
    "frag1_length = dna.find('GAATTC') + 1\n",
    "frag2_length = len(dna) - frag1_length\n",
    "print('length of fragment 1 is', frag1_length)\n",
    "print('length of fragment 2 is', frag2_length)"
   ]
  },
  {
   "cell_type": "code",
   "execution_count": 32,
   "metadata": {},
   "outputs": [
    {
     "name": "stdout",
     "output_type": "stream",
     "text": [
      "ACTGATCGATTACGTATAGTATTTGCTATCATACATATATATCGATGCGTTCAT\n",
      "tCTGtTCGtTTtCGTtTtGTtTTTGCTtTCtTtCtTtTtTtTCGtTGCGTTCtT\n",
      "tCaGtaCGtaatCGatatGataaaGCataCtatCtatatataCGtaGCGaaCta\n",
      "tgaGtagGtaatgGatatGataaaGgatagtatgtatatatagGtaGgGaagta\n",
      "tgactagctaatgcatatcataaacgatagtatgtatatatagctacgcaagta\n",
      "TGACTAGCTAATGCATATCATAAACGATAGTATGTATATATAGCTACGCAAGTA\n",
      "ATGAACGCATCGATATATATGTATGATAGCAAATACTATACGTAATCGATCAGT\n"
     ]
    }
   ],
   "source": [
    "# Maryam - complementing DNA\n",
    "my_dna = \"ACTGATCGATTACGTATAGTATTTGCTATCATACATATATATCGATGCGTTCAT\"\n",
    "\n",
    "print(my_dna)\n",
    "complement_a = my_dna.replace('A', 't')\n",
    "print(complement_a)\n",
    "complement_t = complement_a.replace('T', 'a')\n",
    "print(complement_t)\n",
    "complement_c = complement_t.replace('C', 'g')\n",
    "print(complement_c)\n",
    "complement_g = complement_c.replace('G', 'c')\n",
    "print(complement_g)\n",
    "complement_dna = complement_g.upper()\n",
    "print(complement_dna)\n",
    "reverse_complement_dna = complement_dna[::-1]\n",
    "print(reverse_complement_dna)"
   ]
  },
  {
   "cell_type": "code",
   "execution_count": 33,
   "metadata": {},
   "outputs": [
    {
     "name": "stdout",
     "output_type": "stream",
     "text": [
      "16\n",
      "21\n"
     ]
    },
    {
     "data": {
      "text/plain": [
       "68.51851851851852"
      ]
     },
     "execution_count": 33,
     "metadata": {},
     "output_type": "execute_result"
    }
   ],
   "source": [
    "dna = 'ACTGATCGATTACGTATAGTATTTGCTATCATACATATATATCGATGCGTTCAT'\n",
    "\n",
    "def at_percentage(dnastring):\n",
    "    \"\"\"Return the AT percentage of string of DNA bases\n",
    "    \n",
    "    dnastring - string of DNA bases, containing only A, C, T or G - str\n",
    "    returns - AT% - float\"\"\"\n",
    "    a_count = dnastring.count('A')\n",
    "    print(a_count)\n",
    "    t_count = dnastring.count('T')\n",
    "    print(t_count)\n",
    "    length = len(dnastring)\n",
    "    return (a_count + t_count) / length * 100\n",
    "\n",
    "at_percentage(dna)"
   ]
  },
  {
   "cell_type": "code",
   "execution_count": null,
   "metadata": {},
   "outputs": [],
   "source": []
  }
 ],
 "metadata": {
  "kernelspec": {
   "display_name": "Python [anaconda3]",
   "language": "python",
   "name": "Python [anaconda3]"
  },
  "language_info": {
   "codemirror_mode": {
    "name": "ipython",
    "version": 3
   },
   "file_extension": ".py",
   "mimetype": "text/x-python",
   "name": "python",
   "nbconvert_exporter": "python",
   "pygments_lexer": "ipython3",
   "version": "3.5.4"
  }
 },
 "nbformat": 4,
 "nbformat_minor": 2
}
