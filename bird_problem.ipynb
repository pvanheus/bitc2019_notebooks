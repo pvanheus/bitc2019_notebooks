{
 "cells": [
  {
   "cell_type": "code",
   "execution_count": 1,
   "metadata": {},
   "outputs": [],
   "source": [
    "# data about bird observations\n",
    "data = [['A1', 28], ['A2', 32], ['A3', 1], ['A4', 0],\n",
    "        ['A5', 10], ['A6', 22], ['A7', 30], ['A8', 19],\n",
    "        ['B1', 145], ['B2', 27], ['B3', 36], ['B4', 25],\n",
    "        ['B5', 9], ['B6', 38], ['B7', 21], ['B8', 12],\n",
    "        ['C1', 122], ['C2', 87], ['C3', 36], ['C4', 3],\n",
    "        ['D1', 0], ['D2', 5], ['D3', 55], ['D4', 62],\n",
    "        ['D5', 98], ['D6', 32]]\n"
   ]
  },
  {
   "cell_type": "markdown",
   "metadata": {},
   "source": [
    "This problem is from [Programming for Biologists](http://www.programmingforbiologists.org/exercises/Basic-python-1/). \n",
    "\n",
    "\n",
    "1. How many sites are there?\n",
    "2. How many birds were counted at the 7th site?\n",
    "3. How many birds were counted at the last site?\n",
    "4. What is the total number of birds counted across all sites?\n",
    "5. What is the average number of birds seen on a site?\n",
    "6. What is the total number of birds counted on sites with codes beginning with C? (don’t just identify this sites by eye, in the real world there could be hundreds or thousands of sites)\n"
   ]
  },
  {
   "cell_type": "code",
   "execution_count": null,
   "metadata": {},
   "outputs": [],
   "source": []
  }
 ],
 "metadata": {
  "kernelspec": {
   "display_name": "Python [anaconda3]",
   "language": "python",
   "name": "Python [anaconda3]"
  },
  "language_info": {
   "codemirror_mode": {
    "name": "ipython",
    "version": 3
   },
   "file_extension": ".py",
   "mimetype": "text/x-python",
   "name": "python",
   "nbconvert_exporter": "python",
   "pygments_lexer": "ipython3",
   "version": "3.5.4"
  }
 },
 "nbformat": 4,
 "nbformat_minor": 2
}
