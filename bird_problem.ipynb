{
 "cells": [
  {
   "cell_type": "code",
   "execution_count": 1,
   "metadata": {},
   "outputs": [],
   "source": [
    "# data about bird observations\n",
    "data = [['A1', 28], ['A2', 32], ['A3', 1], ['A4', 0],\n",
    "        ['A5', 10], ['A6', 22], ['A7', 30], ['A8', 19],\n",
    "        ['B1', 145], ['B2', 27], ['B3', 36], ['B4', 25],\n",
    "        ['B5', 9], ['B6', 38], ['B7', 21], ['B8', 12],\n",
    "        ['C1', 122], ['C2', 87], ['C3', 36], ['C4', 3],\n",
    "        ['D1', 0], ['D2', 5], ['D3', 55], ['D4', 62],\n",
    "        ['D5', 98], ['D6', 32]]\n"
   ]
  },
  {
   "cell_type": "markdown",
   "metadata": {},
   "source": [
    "This problem is from [Programming for Biologists](http://www.programmingforbiologists.org/exercises/Basic-python-1/). \n",
    "\n",
    "\n",
    "1. How many sites are there?\n",
    "2. How many birds were counted at the 7th site?\n",
    "3. How many birds were counted at the last site?\n",
    "4. What is the total number of birds counted across all sites?\n",
    "5. What is the average number of birds seen on a site?\n",
    "6. What is the total number of birds counted on sites with codes beginning with C? (don’t just identify this sites by eye, in the real world there could be hundreds or thousands of sites)\n"
   ]
  },
  {
   "cell_type": "code",
   "execution_count": 2,
   "metadata": {},
   "outputs": [
    {
     "name": "stdout",
     "output_type": "stream",
     "text": [
      "26\n"
     ]
    }
   ],
   "source": [
    "# 1.\n",
    "print(len(data))"
   ]
  },
  {
   "cell_type": "code",
   "execution_count": 5,
   "metadata": {},
   "outputs": [
    {
     "name": "stdout",
     "output_type": "stream",
     "text": [
      "30\n"
     ]
    }
   ],
   "source": [
    "# 2.\n",
    "print(data[6][1])"
   ]
  },
  {
   "cell_type": "code",
   "execution_count": 6,
   "metadata": {},
   "outputs": [
    {
     "name": "stdout",
     "output_type": "stream",
     "text": [
      "32\n"
     ]
    }
   ],
   "source": [
    "# 3.\n",
    "print(data[-1][1])"
   ]
  },
  {
   "cell_type": "code",
   "execution_count": 7,
   "metadata": {},
   "outputs": [
    {
     "name": "stdout",
     "output_type": "stream",
     "text": [
      "955\n"
     ]
    }
   ],
   "source": [
    "# 4. \n",
    "total = 0\n",
    "for site in data:\n",
    "    total = total + site[1]\n",
    "print(total)"
   ]
  },
  {
   "cell_type": "code",
   "execution_count": 10,
   "metadata": {},
   "outputs": [
    {
     "name": "stdout",
     "output_type": "stream",
     "text": [
      "955\n"
     ]
    }
   ],
   "source": [
    "# 4.\n",
    "def total_birds(data):\n",
    "    total = 0\n",
    "    for site in data:\n",
    "        total = total + site[1]\n",
    "    return total\n",
    "\n",
    "test_data = [['A1', 1], ['A2', 2], ['A3', 3]]\n",
    "expected = 6\n",
    "result = total_birds(test_data)\n",
    "assert result == expected, 'expected ' + str(expected) + ' got ' + str(result)\n",
    "\n",
    "print(total_birds(data))"
   ]
  },
  {
   "cell_type": "code",
   "execution_count": 11,
   "metadata": {},
   "outputs": [
    {
     "name": "stdout",
     "output_type": "stream",
     "text": [
      "36.73076923076923 average per site\n"
     ]
    }
   ],
   "source": [
    "# 5.\n",
    "def total_birds(data):\n",
    "    total = 0\n",
    "    for site in data:\n",
    "        total = total + site[1]\n",
    "    return total\n",
    "\n",
    "average_birds = total_birds(data) / len(data)\n",
    "print(average_birds, 'average per site')\n"
   ]
  },
  {
   "cell_type": "code",
   "execution_count": 12,
   "metadata": {},
   "outputs": [
    {
     "name": "stdout",
     "output_type": "stream",
     "text": [
      "248\n"
     ]
    }
   ],
   "source": [
    "# 6.\n",
    "total = 0\n",
    "for site in data:\n",
    "    if site[0].startswith('C'):\n",
    "        total = total + site[1]\n",
    "print(total)"
   ]
  },
  {
   "cell_type": "code",
   "execution_count": 18,
   "metadata": {},
   "outputs": [
    {
     "name": "stdout",
     "output_type": "stream",
     "text": [
      "248\n"
     ]
    }
   ],
   "source": [
    "# 6. \n",
    "def total_birds_by_siteprefix(data, prefix):\n",
    "    total = 0\n",
    "    for site in data:\n",
    "        if site[0].startswith(prefix):\n",
    "            total = total + site[1]\n",
    "    return total\n",
    "\n",
    "test_data = [['A1', 1], ['C1', 2], ['A2', 3], ['C2', 4]]\n",
    "expected = 6\n",
    "result = total_birds_by_siteprefix(test_data, 'C')\n",
    "assert expected == result, 'expected ' + str(expected) + ' got ' + str(result)\n",
    "\n",
    "print(total_birds_by_siteprefix(data, 'C'))"
   ]
  },
  {
   "cell_type": "code",
   "execution_count": 20,
   "metadata": {},
   "outputs": [
    {
     "name": "stdout",
     "output_type": "stream",
     "text": [
      "955\n",
      "955\n"
     ]
    }
   ],
   "source": [
    "# answer for 4.\n",
    "total_birds = 0\n",
    "for i in range(0, len(data)):\n",
    "    total_birds = total_birds + data[i][1]\n",
    "print(total_birds)\n",
    "\n",
    "# my answer\n",
    "total_birds = 0\n",
    "for site in data:\n",
    "    total_birds = total_birds + site[1]\n",
    "print(total_birds)"
   ]
  },
  {
   "cell_type": "code",
   "execution_count": 22,
   "metadata": {},
   "outputs": [
    {
     "name": "stdout",
     "output_type": "stream",
     "text": [
      "['A1', 28] A1 A\n",
      "['A2', 32] A2 A\n",
      "['A3', 1] A3 A\n",
      "['A4', 0] A4 A\n",
      "['A5', 10] A5 A\n",
      "['A6', 22] A6 A\n",
      "['A7', 30] A7 A\n",
      "['A8', 19] A8 A\n",
      "['B1', 145] B1 B\n",
      "['B2', 27] B2 B\n",
      "['B3', 36] B3 B\n",
      "['B4', 25] B4 B\n",
      "['B5', 9] B5 B\n",
      "['B6', 38] B6 B\n",
      "['B7', 21] B7 B\n",
      "['B8', 12] B8 B\n",
      "['C1', 122] C1 C\n",
      "['C2', 87] C2 C\n",
      "['C3', 36] C3 C\n",
      "['C4', 3] C4 C\n",
      "['D1', 0] D1 D\n",
      "['D2', 5] D2 D\n",
      "['D3', 55] D3 D\n",
      "['D4', 62] D4 D\n",
      "['D5', 98] D5 D\n",
      "['D6', 32] D6 D\n",
      "248\n"
     ]
    }
   ],
   "source": [
    "# 6. \n",
    "c_sites = 0\n",
    "for i in range(len(data)):\n",
    "    print(data[i], data[i][0], data[i][0][0])\n",
    "    if data[i][0][0] == 'C':\n",
    "        c_sites = c_sites + data[i][1]\n",
    "print(c_sites)"
   ]
  },
  {
   "cell_type": "code",
   "execution_count": 23,
   "metadata": {},
   "outputs": [
    {
     "name": "stdout",
     "output_type": "stream",
     "text": [
      "248\n"
     ]
    }
   ],
   "source": [
    "birds_at_c_sites = 0\n",
    "for site in data:\n",
    "    if site[0].startswith('C'):\n",
    "        birds_at_c_sites = birds_at_c_sites + site[1]\n",
    "print(birds_at_c_sites)"
   ]
  },
  {
   "cell_type": "code",
   "execution_count": null,
   "metadata": {},
   "outputs": [],
   "source": []
  }
 ],
 "metadata": {
  "kernelspec": {
   "display_name": "Python [anaconda3]",
   "language": "python",
   "name": "Python [anaconda3]"
  },
  "language_info": {
   "codemirror_mode": {
    "name": "ipython",
    "version": 3
   },
   "file_extension": ".py",
   "mimetype": "text/x-python",
   "name": "python",
   "nbconvert_exporter": "python",
   "pygments_lexer": "ipython3",
   "version": "3.5.4"
  }
 },
 "nbformat": 4,
 "nbformat_minor": 2
}
