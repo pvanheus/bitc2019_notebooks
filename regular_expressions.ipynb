{
 "cells": [
  {
   "cell_type": "markdown",
   "metadata": {},
   "source": [
    "### P4B Chapter 7: Regular expressions\n",
    "\n",
    "A [Regular Expression](https://en.wikipedia.org/wiki/Regular_expression) also known as *regexp* or *regex* is a string of characters that defines a text search pattern"
   ]
  },
  {
   "cell_type": "code",
   "execution_count": 1,
   "metadata": {},
   "outputs": [],
   "source": [
    "import re"
   ]
  },
  {
   "cell_type": "code",
   "execution_count": 2,
   "metadata": {},
   "outputs": [
    {
     "data": {
      "text/plain": [
       "<re.Match object; span=(5, 11), match='GAATTC'>"
      ]
     },
     "execution_count": 2,
     "metadata": {},
     "output_type": "execute_result"
    }
   ],
   "source": [
    "dna = \"ATCGCGAATTCAC\"\n",
    "re.search(r\"GAATTC\", dna)"
   ]
  },
  {
   "cell_type": "code",
   "execution_count": 3,
   "metadata": {},
   "outputs": [
    {
     "data": {
      "text/plain": [
       "5"
      ]
     },
     "execution_count": 3,
     "metadata": {},
     "output_type": "execute_result"
    }
   ],
   "source": [
    "dna = \"ATCGCGAATTCAC\"\n",
    "dna.find(\"GAATTC\")"
   ]
  },
  {
   "cell_type": "code",
   "execution_count": 4,
   "metadata": {},
   "outputs": [
    {
     "data": {
      "text/plain": [
       "-1"
      ]
     },
     "execution_count": 4,
     "metadata": {},
     "output_type": "execute_result"
    }
   ],
   "source": [
    "dna.find(\"GAAATTC\")"
   ]
  },
  {
   "cell_type": "code",
   "execution_count": 7,
   "metadata": {},
   "outputs": [
    {
     "name": "stdout",
     "output_type": "stream",
     "text": [
      "None\n"
     ]
    }
   ],
   "source": [
    "print(re.search(r\"GAAATTC\", dna))"
   ]
  },
  {
   "cell_type": "code",
   "execution_count": 8,
   "metadata": {},
   "outputs": [
    {
     "name": "stdout",
     "output_type": "stream",
     "text": [
      "restriction site found\n"
     ]
    }
   ],
   "source": [
    "dna = \"ATCGCGAATTCAC\"\n",
    "if re.search(r\"GAATTC\", dna):\n",
    "    print(\"restriction site found\")\n",
    "else:\n",
    "    print(\"site not found in\", dna)"
   ]
  },
  {
   "cell_type": "code",
   "execution_count": 9,
   "metadata": {},
   "outputs": [
    {
     "name": "stdout",
     "output_type": "stream",
     "text": [
      "restriction site found\n"
     ]
    }
   ],
   "source": [
    "if dna.find(\"GAATTC\") != -1:\n",
    "    print(\"restriction site found\")\n",
    "else:\n",
    "    print(\"site not found in\", dna)"
   ]
  },
  {
   "cell_type": "code",
   "execution_count": 10,
   "metadata": {},
   "outputs": [],
   "source": [
    "# AvaII motif\n",
    "# GGACC or GGTCC\n",
    "dna = \"ATCGCGAATTCAC\"\n",
    "if dna.find(\"GGACC\") != -1 or dna.find(\"GGTCC\") != -1:\n",
    "    print(\"restriction site found\")"
   ]
  },
  {
   "cell_type": "code",
   "execution_count": 11,
   "metadata": {},
   "outputs": [],
   "source": [
    "dna = \"ATCGCGAATTCAC\"\n",
    "if re.search(r\"GG(A|T)CC\", dna):\n",
    "    print(\"restriction site found\")"
   ]
  },
  {
   "cell_type": "code",
   "execution_count": 13,
   "metadata": {},
   "outputs": [
    {
     "name": "stdout",
     "output_type": "stream",
     "text": [
      "restriction site found\n"
     ]
    }
   ],
   "source": [
    "dna = \"ATCGCGGACCATTCAC\"\n",
    "if re.search(r\"GG(A|T)CC\", dna):\n",
    "    print(\"restriction site found\")"
   ]
  },
  {
   "cell_type": "code",
   "execution_count": 14,
   "metadata": {},
   "outputs": [
    {
     "data": {
      "text/plain": [
       "<re.Match object; span=(5, 10), match='GGACC'>"
      ]
     },
     "execution_count": 14,
     "metadata": {},
     "output_type": "execute_result"
    }
   ],
   "source": [
    "re.search(r\"GG(A|T)CC\", dna)"
   ]
  },
  {
   "cell_type": "code",
   "execution_count": 15,
   "metadata": {},
   "outputs": [
    {
     "data": {
      "text/plain": [
       "<re.Match object; span=(2, 10), match=' August '>"
      ]
     },
     "execution_count": 15,
     "metadata": {},
     "output_type": "execute_result"
    }
   ],
   "source": [
    "date = \"14 August 1985\"\n",
    "re.search(r\" (August|July) \", date)"
   ]
  },
  {
   "cell_type": "code",
   "execution_count": 17,
   "metadata": {},
   "outputs": [
    {
     "data": {
      "text/plain": [
       "<re.Match object; span=(2, 8), match=' July '>"
      ]
     },
     "execution_count": 17,
     "metadata": {},
     "output_type": "execute_result"
    }
   ],
   "source": [
    "date = \"14 July 1985\"\n",
    "re.search(r\" (August|July) \", date)"
   ]
  },
  {
   "cell_type": "code",
   "execution_count": 18,
   "metadata": {},
   "outputs": [
    {
     "name": "stdout",
     "output_type": "stream",
     "text": [
      "None\n"
     ]
    }
   ],
   "source": [
    "date = \"14 February 1985\"\n",
    "print(re.search(r\" (August|July) \", date))"
   ]
  },
  {
   "cell_type": "code",
   "execution_count": 19,
   "metadata": {},
   "outputs": [
    {
     "name": "stdout",
     "output_type": "stream",
     "text": [
      "<re.Match object; span=(2, 12), match=' February '>\n"
     ]
    }
   ],
   "source": [
    "date = \"14 February 1985\"\n",
    "print(re.search(r\" (August|July|February) \", date))"
   ]
  },
  {
   "cell_type": "code",
   "execution_count": 20,
   "metadata": {},
   "outputs": [
    {
     "data": {
      "text/plain": [
       "<re.Match object; span=(3, 7), match='July'>"
      ]
     },
     "execution_count": 20,
     "metadata": {},
     "output_type": "execute_result"
    }
   ],
   "source": [
    "date = \"14 July 1985\"\n",
    "re.search(r\"(August|July)\", date)"
   ]
  },
  {
   "cell_type": "code",
   "execution_count": 21,
   "metadata": {},
   "outputs": [],
   "source": [
    "# BisI\n",
    "# GCNGC - where N is any of ACTG\n",
    "dna = \"ATCGCGAATTCAC\"\n",
    "if re.search(r\"GC(A|G|T|C)GC\", dna):\n",
    "    print(\"restriction site found\")"
   ]
  },
  {
   "cell_type": "code",
   "execution_count": 22,
   "metadata": {},
   "outputs": [
    {
     "name": "stdout",
     "output_type": "stream",
     "text": [
      "restriction site found\n"
     ]
    }
   ],
   "source": [
    "# BisI\n",
    "# GCNGC - where N is any of ACTG\n",
    "dna = \"ATCGCGGCTTCAC\"\n",
    "if re.search(r\"GC(A|G|T|C)GC\", dna):\n",
    "    print(\"restriction site found\")"
   ]
  },
  {
   "cell_type": "code",
   "execution_count": 23,
   "metadata": {},
   "outputs": [
    {
     "name": "stdout",
     "output_type": "stream",
     "text": [
      "restriction site found\n"
     ]
    }
   ],
   "source": [
    "# BisI\n",
    "# GCNGC - where N is any of ACTG\n",
    "dna = \"ATCGCGGCTTCAC\"\n",
    "if re.search(r\"GC[AGTC]GC\", dna):\n",
    "    print(\"restriction site found\")"
   ]
  },
  {
   "cell_type": "code",
   "execution_count": null,
   "metadata": {},
   "outputs": [],
   "source": [
    "date = \"17 March 1995\"\n",
    "re.search(r\"[0-9])"
   ]
  }
 ],
 "metadata": {
  "kernelspec": {
   "display_name": "Python 3",
   "language": "python",
   "name": "python3"
  },
  "language_info": {
   "codemirror_mode": {
    "name": "ipython",
    "version": 3
   },
   "file_extension": ".py",
   "mimetype": "text/x-python",
   "name": "python",
   "nbconvert_exporter": "python",
   "pygments_lexer": "ipython3",
   "version": "3.7.1"
  }
 },
 "nbformat": 4,
 "nbformat_minor": 2
}
