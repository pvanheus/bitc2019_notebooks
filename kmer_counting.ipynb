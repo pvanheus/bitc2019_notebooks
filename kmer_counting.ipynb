{
 "cells": [
  {
   "cell_type": "markdown",
   "metadata": {},
   "source": [
    "#### Biopython\n",
    "\n",
    "[Biopython](https://biopython.org/) is a module for doing bioinformatics\n",
    "in Python. It has a nice [tutorial](http://biopython.org/DIST/docs/tutorial/Tutorial.html).\n"
   ]
  },
  {
   "cell_type": "code",
   "execution_count": 2,
   "metadata": {},
   "outputs": [
    {
     "name": "stdout",
     "output_type": "stream",
     "text": [
      "foxl2.fasta\n"
     ]
    }
   ],
   "source": [
    "ls fox*"
   ]
  },
  {
   "cell_type": "code",
   "execution_count": 3,
   "metadata": {},
   "outputs": [],
   "source": [
    "# the foxl2 gene\n",
    "# https://raw.githubusercontent.com/pvanheus/bitc2019_notebooks/master/foxl2.fasta\n"
   ]
  },
  {
   "cell_type": "code",
   "execution_count": 5,
   "metadata": {},
   "outputs": [
    {
     "name": "stdout",
     "output_type": "stream",
     "text": [
      "ID: NG_012454.1:5004-7917\n",
      "Name: NG_012454.1:5004-7917\n",
      "Description: NG_012454.1:5004-7917 Homo sapiens forkhead box L2 (FOXL2), RefSeqGene on chromosome 3\n",
      "Number of features: 0\n",
      "Seq('AGAACAGAGCGAGGCTCCTGGCGCACTAGGGACTCCAGGAGGCAGCTCCGCCAG...TAA', SingleLetterAlphabet())\n"
     ]
    }
   ],
   "source": [
    "from Bio import SeqIO\n",
    "\n",
    "sequence_record = SeqIO.read('foxl2.fasta', 'fasta')\n",
    "print(sequence_record)"
   ]
  },
  {
   "cell_type": "code",
   "execution_count": 8,
   "metadata": {},
   "outputs": [
    {
     "name": "stdout",
     "output_type": "stream",
     "text": [
      "AGAACAGAGCGAGGCTCCTGGCGCACTAGGGACTCCAGGAGGCAGCTCCGCCAGAGACGCGGGTCGTGCTTCGGGAAACCGGGGGGCGGGGGGAGGGGAA\n"
     ]
    }
   ],
   "source": [
    "my_sequence = str(sequence_record.seq)\n",
    "print(my_sequence[:100])"
   ]
  },
  {
   "cell_type": "code",
   "execution_count": 9,
   "metadata": {},
   "outputs": [
    {
     "name": "stdout",
     "output_type": "stream",
     "text": [
      "2914\n"
     ]
    }
   ],
   "source": [
    "print(len(my_sequence))"
   ]
  },
  {
   "cell_type": "code",
   "execution_count": 14,
   "metadata": {},
   "outputs": [],
   "source": [
    "def gene_to_kmers(dna, k):\n",
    "    kmers = []\n",
    "    for start in range(len(dna) - k):\n",
    "        kmer = dna[start:start + k]\n",
    "        kmers.append(kmer)\n",
    "    return kmers"
   ]
  },
  {
   "cell_type": "code",
   "execution_count": 15,
   "metadata": {},
   "outputs": [
    {
     "data": {
      "text/plain": [
       "['CTTCT', 'TTCTT', 'TCTTT', 'CTTTT', 'TTTTA']"
      ]
     },
     "execution_count": 15,
     "metadata": {},
     "output_type": "execute_result"
    }
   ],
   "source": [
    "kmers = gene_to_kmers(my_sequence, 5)"
   ]
  },
  {
   "cell_type": "code",
   "execution_count": 16,
   "metadata": {},
   "outputs": [],
   "source": [
    "def kmer_counts(kmers):\n",
    "    kmer_count_dict = {}\n",
    "    for kmer in kmers:\n",
    "        if kmer in kmer_count_dict:\n",
    "            kmer_count_dict[kmer] += 1\n",
    "        else:\n",
    "            kmer_count_dict[kmer] = 1\n",
    "    return kmer_count_dict"
   ]
  },
  {
   "cell_type": "code",
   "execution_count": 20,
   "metadata": {},
   "outputs": [],
   "source": [
    "# get a dictionary of kmer counts\n",
    "kmer_count_dict = kmer_counts(kmers)"
   ]
  },
  {
   "cell_type": "code",
   "execution_count": 28,
   "metadata": {},
   "outputs": [],
   "source": [
    "def counts_to_tuples(kmer_count_dict):\n",
    "    tuples = []\n",
    "    for kmer, count in kmer_count_dict.items():\n",
    "        tuples.append([kmer, count])\n",
    "    return tuples"
   ]
  },
  {
   "cell_type": "code",
   "execution_count": 29,
   "metadata": {},
   "outputs": [],
   "source": [
    "from operator import itemgetter"
   ]
  },
  {
   "cell_type": "code",
   "execution_count": 34,
   "metadata": {},
   "outputs": [
    {
     "data": {
      "text/plain": [
       "[['GCCGC', 31],\n",
       " ['CCGCC', 24],\n",
       " ['CGCCG', 24],\n",
       " ['GGCGG', 23],\n",
       " ['CCGGC', 20],\n",
       " ['GCGGG', 18],\n",
       " ['AAAAA', 18],\n",
       " ['CCCGG', 17],\n",
       " ['GCGGC', 16],\n",
       " ['GGCCG', 16]]"
      ]
     },
     "execution_count": 34,
     "metadata": {},
     "output_type": "execute_result"
    }
   ],
   "source": [
    "sorted_counts = sorted(counts_to_tuples(kmer_count_dict),\n",
    "                       key=itemgetter(1), reverse=True)\n",
    "sorted_counts[:10]"
   ]
  },
  {
   "cell_type": "code",
   "execution_count": 38,
   "metadata": {},
   "outputs": [
    {
     "data": {
      "image/png": "[encoded data removed]",
      "text/plain": [
       "<Figure size 432x288 with 1 Axes>"
      ]
     },
     "metadata": {
      "needs_background": "light"
     },
     "output_type": "display_data"
    }
   ],
   "source": [
    "import matplotlib.pyplot as plt\n",
    "%matplotlib inline\n",
    "\n",
    "x = [ el[0] for el in sorted_counts ]\n",
    "y = [ el[1] for el in sorted_counts ]\n",
    "plt.plot(x, y)\n",
    "plt.xticks(rotation=90)\n",
    "plt.show()"
   ]
  },
  {
   "cell_type": "code",
   "execution_count": null,
   "metadata": {},
   "outputs": [],
   "source": []
  }
 ],
 "metadata": {
  "kernelspec": {
   "display_name": "Python 3",
   "language": "python",
   "name": "python3"
  },
  "language_info": {
   "codemirror_mode": {
    "name": "ipython",
    "version": 3
   },
   "file_extension": ".py",
   "mimetype": "text/x-python",
   "name": "python",
   "nbconvert_exporter": "python",
   "pygments_lexer": "ipython3",
   "version": "3.7.1"
  }
 },
 "nbformat": 4,
 "nbformat_minor": 2
}
