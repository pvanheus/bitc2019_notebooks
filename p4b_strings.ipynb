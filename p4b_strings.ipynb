{
 "cells": [
  {
   "cell_type": "code",
   "execution_count": 1,
   "metadata": {},
   "outputs": [],
   "source": [
    "# 1. concatenation\n",
    "dna = 'ACT' + 'GAT'\n",
    "# 2. length of string\n",
    "mylength = len(dna)"
   ]
  },
  {
   "cell_type": "code",
   "execution_count": 3,
   "metadata": {},
   "outputs": [
    {
     "name": "stdout",
     "output_type": "stream",
     "text": [
      "ATGGTGGCTCCGTGCACACGGAAAGGTTTGGACCCGACCGAAAAGTTC\n",
      "atggtggctccgtgcacacggaaaggtttggacccgaccgaaaagttc\n"
     ]
    }
   ],
   "source": [
    "# 3. changing case\n",
    "dna = 'ATGGTGGCTCCGTGCACACGGaaaggtttggacccgaccgaAAAGTTC'\n",
    "uppercase_dna = dna.upper()\n",
    "print(uppercase_dna)\n",
    "lowercase_dna = dna.lower()\n",
    "print(lowercase_dna)"
   ]
  },
  {
   "cell_type": "code",
   "execution_count": 5,
   "metadata": {},
   "outputs": [
    {
     "ename": "AttributeError",
     "evalue": "'list' object has no attribute 'lower'",
     "output_type": "error",
     "traceback": [
      "\u001b[0;31m---------------------------------------------------------------------------\u001b[0m",
      "\u001b[0;31mAttributeError\u001b[0m                            Traceback (most recent call last)",
      "\u001b[0;32m<ipython-input-5-3d0d241cd724>\u001b[0m in \u001b[0;36m<module>\u001b[0;34m()\u001b[0m\n\u001b[1;32m      1\u001b[0m \u001b[0mmy_dna_list\u001b[0m \u001b[0;34m=\u001b[0m \u001b[0;34m[\u001b[0m\u001b[0;34m'ACT'\u001b[0m\u001b[0;34m,\u001b[0m \u001b[0;34m'GAT'\u001b[0m\u001b[0;34m,\u001b[0m \u001b[0;34m'GGT'\u001b[0m\u001b[0;34m,\u001b[0m \u001b[0;34m'CCT'\u001b[0m\u001b[0;34m]\u001b[0m\u001b[0;34m\u001b[0m\u001b[0m\n\u001b[1;32m      2\u001b[0m \u001b[0;31m# can't do this\u001b[0m\u001b[0;34m\u001b[0m\u001b[0;34m\u001b[0m\u001b[0m\n\u001b[0;32m----> 3\u001b[0;31m \u001b[0mlower_dna_list\u001b[0m \u001b[0;34m=\u001b[0m \u001b[0mmy_dna_list\u001b[0m\u001b[0;34m.\u001b[0m\u001b[0mlower\u001b[0m\u001b[0;34m(\u001b[0m\u001b[0;34m)\u001b[0m\u001b[0;34m\u001b[0m\u001b[0m\n\u001b[0m",
      "\u001b[0;31mAttributeError\u001b[0m: 'list' object has no attribute 'lower'"
     ]
    }
   ],
   "source": [
    "my_dna_list = ['ACT', 'GAT', 'GGT', 'CCT']\n",
    "# can't do this\n",
    "lower_dna_list = my_dna_list.lower()"
   ]
  },
  {
   "cell_type": "code",
   "execution_count": 6,
   "metadata": {},
   "outputs": [
    {
     "name": "stdout",
     "output_type": "stream",
     "text": [
      "['ACT', 'GAT', 'GGT', 'CCT']\n",
      "['act', 'gat', 'ggt', 'cct']\n"
     ]
    }
   ],
   "source": [
    "# can do this\n",
    "lower_dna_list = []\n",
    "for dna in my_dna_list:\n",
    "    lower_dna_list.append(dna.lower())\n",
    "print(my_dna_list)\n",
    "print(lower_dna_list)"
   ]
  },
  {
   "cell_type": "code",
   "execution_count": 7,
   "metadata": {},
   "outputs": [
    {
     "name": "stdout",
     "output_type": "stream",
     "text": [
      "DNA: CGACTTGACCGTGACGTACG\n",
      "RNA: CGACUUGACCGUGACGUACG\n"
     ]
    }
   ],
   "source": [
    "# 4. replacement\n",
    "mydna = 'CGACTTGACCGTGACGTACG'\n",
    "myrna = mydna.replace('T', 'U')\n",
    "print(\"DNA:\", mydna)\n",
    "print(\"RNA:\", myrna)"
   ]
  },
  {
   "cell_type": "code",
   "execution_count": null,
   "metadata": {},
   "outputs": [],
   "source": []
  }
 ],
 "metadata": {
  "kernelspec": {
   "display_name": "Python [anaconda3]",
   "language": "python",
   "name": "Python [anaconda3]"
  },
  "language_info": {
   "codemirror_mode": {
    "name": "ipython",
    "version": 3
   },
   "file_extension": ".py",
   "mimetype": "text/x-python",
   "name": "python",
   "nbconvert_exporter": "python",
   "pygments_lexer": "ipython3",
   "version": "3.5.4"
  }
 },
 "nbformat": 4,
 "nbformat_minor": 2
}
