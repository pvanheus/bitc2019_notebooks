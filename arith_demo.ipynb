{
 "cells": [
  {
   "cell_type": "code",
   "execution_count": 2,
   "metadata": {},
   "outputs": [
    {
     "data": {
      "text/plain": [
       "'/home/pvh/Documents/code/SANBI/biocourse2019/bitc2019_notebooks'"
      ]
     },
     "execution_count": 2,
     "metadata": {},
     "output_type": "execute_result"
    }
   ],
   "source": [
    "pwd"
   ]
  },
  {
   "cell_type": "code",
   "execution_count": 3,
   "metadata": {},
   "outputs": [
    {
     "name": "stdout",
     "output_type": "stream",
     "text": [
      "/home/pvh/Documents/code/SANBI/biocourse2019/bitc2019_notebooks/code\n"
     ]
    }
   ],
   "source": [
    "cd code"
   ]
  },
  {
   "cell_type": "code",
   "execution_count": 4,
   "metadata": {},
   "outputs": [],
   "source": [
    "import myarith"
   ]
  },
  {
   "cell_type": "code",
   "execution_count": 5,
   "metadata": {},
   "outputs": [
    {
     "name": "stdout",
     "output_type": "stream",
     "text": [
      "Help on function arith in module myarith:\n",
      "\n",
      "arith(operation, num1, num2)\n",
      "    arith: do some arithmetic\n",
      "    \n",
      "    operation: either 'add' or 'subtract'\n",
      "    num1: first number - int\n",
      "    num2: second number for operation - int\n",
      "\n"
     ]
    }
   ],
   "source": [
    "help(myarith.arith)"
   ]
  },
  {
   "cell_type": "code",
   "execution_count": 7,
   "metadata": {},
   "outputs": [
    {
     "name": "stdout",
     "output_type": "stream",
     "text": [
      "4\n"
     ]
    }
   ],
   "source": [
    "myarith.arith('add', 2, 2)"
   ]
  },
  {
   "cell_type": "code",
   "execution_count": 8,
   "metadata": {},
   "outputs": [
    {
     "name": "stdout",
     "output_type": "stream",
     "text": [
      "['', '/home/pvh/anaconda3/lib/python35.zip', '/home/pvh/anaconda3/lib/python3.5', '/home/pvh/anaconda3/lib/python3.5/plat-linux', '/home/pvh/anaconda3/lib/python3.5/lib-dynload', '/home/pvh/.local/lib/python3.5/site-packages', '/home/pvh/anaconda3/lib/python3.5/site-packages', '/home/pvh/anaconda3/lib/python3.5/site-packages/Mako-1.0.7-py3.5.egg', '/home/pvh/anaconda3/lib/python3.5/site-packages/bcbio_gff-0.6.4-py3.5.egg', '/home/pvh/anaconda3/lib/python3.5/site-packages/galaxy_lib-17.5.9-py3.5.egg', '/home/pvh/anaconda3/lib/python3.5/site-packages/pysftp-0.2.9-py3.5.egg', '/home/pvh/anaconda3/lib/python3.5/site-packages/requests_toolbelt-0.5.0-py3.5.egg', '/home/pvh/anaconda3/lib/python3.5/site-packages/rsa-3.1.4-py3.5.egg', '/home/pvh/anaconda3/lib/python3.5/site-packages/vincent-0.4.4-py3.5.egg', '/home/pvh/anaconda3/lib/python3.5/site-packages/IPython/extensions', '/home/pvh/.ipython']\n"
     ]
    }
   ],
   "source": [
    "# the python module search path\n",
    "import sys\n",
    "print(sys.path)"
   ]
  },
  {
   "cell_type": "markdown",
   "metadata": {},
   "source": [
    "### Python modules\n",
    "For more on Python modules read this [post](https://realpython.com/python-modules-packages/) from [Real Python](https://realpython.com/start-here/)."
   ]
  },
  {
   "cell_type": "code",
   "execution_count": null,
   "metadata": {},
   "outputs": [],
   "source": []
  }
 ],
 "metadata": {
  "kernelspec": {
   "display_name": "Python [anaconda3]",
   "language": "python",
   "name": "Python [anaconda3]"
  },
  "language_info": {
   "codemirror_mode": {
    "name": "ipython",
    "version": 3
   },
   "file_extension": ".py",
   "mimetype": "text/x-python",
   "name": "python",
   "nbconvert_exporter": "python",
   "pygments_lexer": "ipython3",
   "version": "3.5.4"
  }
 },
 "nbformat": 4,
 "nbformat_minor": 2
}
