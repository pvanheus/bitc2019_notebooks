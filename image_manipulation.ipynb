{
 "cells": [
  {
   "cell_type": "code",
   "execution_count": 55,
   "metadata": {},
   "outputs": [],
   "source": [
    "from PIL import Image, ImageFilter\n",
    "from io import BytesIO\n",
    "import requests\n",
    "import matplotlib.pyplot as plt\n",
    "\n",
    "%matplotlib inline\n",
    "\n",
    "url = 'http://www.sanbi.ac.za/uwc_rod/wp-content/uploads/2015/03/Sanbi-HR.png'\n",
    "# fetch the logo from the web\n",
    "response = requests.get(url)\n",
    "if response.status_code == 200:\n",
    "    # status_code 200 means success\n",
    "    image_data = response.content\n",
    "else:\n",
    "    # force an error with raise()\n",
    "    raise IOError('Failed to retrieve image data:' + str(response.status_code))\n",
    "# turn out downloaded data into a in-memory \"file\" using BytesIO\n",
    "image_file = BytesIO(image_data)"
   ]
  },
  {
   "cell_type": "code",
   "execution_count": 56,
   "metadata": {},
   "outputs": [
    {
     "data": {
      "image/png": "[encoded data removed]",
      "text/plain": [
       "<Figure size 432x288 with 1 Axes>"
      ]
     },
     "metadata": {},
     "output_type": "display_data"
    }
   ],
   "source": [
    "# read the logo into a PIL Image object\n",
    "logo = Image.open(image_file)\n",
    "# use matplotlib to show the logo\n",
    "img = plt.imshow(logo)\n",
    "plt.axis('off')\n",
    "plt.show()"
   ]
  },
  {
   "cell_type": "code",
   "execution_count": 66,
   "metadata": {},
   "outputs": [
    {
     "name": "stdout",
     "output_type": "stream",
     "text": [
      "width: 1644 height: 1654\n"
     ]
    },
    {
     "data": {
      "image/png": "[encoded data removed]",
      "text/plain": [
       "<Figure size 432x288 with 1 Axes>"
      ]
     },
     "metadata": {},
     "output_type": "display_data"
    }
   ],
   "source": [
    "original = logo.copy()\n",
    "# read the logo again so that we can use this cell over and over\n",
    "logo = Image.open(image_file)\n",
    "width = logo.width\n",
    "height = logo.height\n",
    "print(\"width:\", width, \"height:\", height)\n",
    "for x in range(width):\n",
    "    for y in range(height):\n",
    "        pixel = logo.getpixel((x, y))\n",
    "        (r, g, b) = pixel  # a pixel is red, green, blue\n",
    "        blueness = b - r\n",
    "        if blueness > 50:\n",
    "            # this pixel has a higher blue intensity\n",
    "            # than its red intensity - it is probably part of the blue\n",
    "            # part of the logo\n",
    "            #\n",
    "            # use the old blue as the new red and bump it up\n",
    "            new_r = b + 50\n",
    "            # and set the green to 0\n",
    "            new_g = 0\n",
    "            # set the new red to less than the old blue\n",
    "            new_b = r - 50\n",
    "            logo.putpixel((x,y), (new_r, 0, new_b))\n",
    "\n",
    "img = plt.imshow(logo)\n",
    "plt.axis('off')\n",
    "plt.show()"
   ]
  },
  {
   "cell_type": "markdown",
   "metadata": {},
   "source": [
    "#### Challenges\n",
    "\n",
    "1. Make the logo green\n",
    "2. Change  the colour of the lettering\n",
    "3. Make one part of the logo one colour, another part of the logo another color\n"
   ]
  }
 ],
 "metadata": {
  "kernelspec": {
   "display_name": "Python [anaconda3]",
   "language": "python",
   "name": "Python [anaconda3]"
  },
  "language_info": {
   "codemirror_mode": {
    "name": "ipython",
    "version": 3
   },
   "file_extension": ".py",
   "mimetype": "text/x-python",
   "name": "python",
   "nbconvert_exporter": "python",
   "pygments_lexer": "ipython3",
   "version": "3.5.4"
  }
 },
 "nbformat": 4,
 "nbformat_minor": 2
}
