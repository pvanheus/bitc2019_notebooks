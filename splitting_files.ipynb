{
 "cells": [
  {
   "cell_type": "code",
   "execution_count": 2,
   "metadata": {},
   "outputs": [
    {
     "name": "stdout",
     "output_type": "stream",
     "text": [
      "BUG1.tsv\n"
     ]
    }
   ],
   "source": [
    "import requests\n",
    "\n",
    "def fetch(url):\n",
    "    response = requests.get(url)\n",
    "    if response.status_code == 200:\n",
    "        output_filename = url.split('/')[-1]\n",
    "        print(output_filename)\n",
    "        output_file = open(output_filename, 'wb')\n",
    "        output_file.write(response.content)\n",
    "        output_file.close()\n",
    "        \n",
    "url = 'https://github.com/pvanheus/bitc2019_notebooks/raw/master/BUG1.tsv'\n",
    "fetch(url)"
   ]
  },
  {
   "cell_type": "code",
   "execution_count": 6,
   "metadata": {},
   "outputs": [
    {
     "name": "stdout",
     "output_type": "stream",
     "text": [
      "BUG1cds1\tPKP60081.1\tArchaea\tEuryarchaeota\tUNKNOWN\tCandidatus Altiarchaeales\tUNKNOWN\tUNKNOWN\tCandidatus Altiarchaeales archaeon HGW-Altiarchaeales-1\n",
      "\n",
      "BUG1cds2\tWP_106860599.1\tBacteria\tAcidobacteria\tSolibacteres\tSolibacterales\tSolibacteraceae\tCandidatus Sulfopaludibacter\tCandidatus Sulfopaludibacter sp. SbA4\n",
      "\n",
      "BUG1cds3\tCAX83945.1\tBacteria\tUNKNOWN\tUNKNOWN\tUNKNOWN\tUNKNOWN\tUNKNOWN\tuncultured bacterium\n",
      "\n",
      "BUG1cds4\tCAX83946.1\tBacteria\tUNKNOWN\tUNKNOWN\tUNKNOWN\tUNKNOWN\tUNKNOWN\tuncultured bacterium\n",
      "\n",
      "BUG1cds6\tWP_068386266.1\tBacteria\tCyanobacteria\tUNKNOWN\tSynechococcales\tLeptolyngbyaceae\tLeptolyngbya\tLeptolyngbya sp. NIES-3755\n",
      "\n",
      "BUG1cds7\tOGA44947.1\tBacteria\tProteobacteria\tBetaproteobacteria\tUNKNOWN\tUNKNOWN\tUNKNOWN\tBetaproteobacteria bacterium RIFCSPLOWO2_12_FULL_62_58\n",
      "\n",
      "BUG1cds8\tODJ87876.1\tBacteria\tProteobacteria\tGammaproteobacteria\tUNKNOWN\tUNKNOWN\tCandidatus Thiodiazotropha\tCandidatus Thiodiazotropha endolucinida\n",
      "\n",
      "BUG1cds10\tABK46072.1\tBacteria\tProteobacteria\tAlphaproteobacteria\tMagnetococcales\tMagnetococcaceae\tMagnetococcus\tMagnetococcus marinus\n",
      "\n",
      "BUG1cds11\tCRH07459.1\tBacteria\tUNKNOWN\tUNKNOWN\tUNKNOWN\tUNKNOWN\tUNKNOWN\tmagneto-ovoid bacterium MO-1\n",
      "\n",
      "BUG1cds12\tCRH07460.1\tBacteria\tUNKNOWN\tUNKNOWN\tUNKNOWN\tUNKNOWN\tUNKNOWN\tmagneto-ovoid bacterium MO-1\n",
      "\n"
     ]
    }
   ],
   "source": [
    "# how to iterate the lines in a file\n",
    "input_filename = 'BUG1.tsv'\n",
    "input_file = open(input_filename)\n",
    "count = 0\n",
    "for line in input_file:\n",
    "    print(line)\n",
    "    count = count + 1\n",
    "    if count == 10:\n",
    "        break"
   ]
  },
  {
   "cell_type": "code",
   "execution_count": 8,
   "metadata": {},
   "outputs": [
    {
     "name": "stdout",
     "output_type": "stream",
     "text": [
      "BUG1cds2\tWP_106860599.1\tBacteria\tAcidobacteria\tSolibacteres\tSolibacterales\tSolibacteraceae\tCandidatus Sulfopaludibacter\tCandidatus Sulfopaludibacter sp. SbA4\n",
      "\n",
      "BUG1cds3\tCAX83945.1\tBacteria\tUNKNOWN\tUNKNOWN\tUNKNOWN\tUNKNOWN\tUNKNOWN\tuncultured bacterium\n",
      "\n",
      "BUG1cds4\tCAX83946.1\tBacteria\tUNKNOWN\tUNKNOWN\tUNKNOWN\tUNKNOWN\tUNKNOWN\tuncultured bacterium\n",
      "\n",
      "BUG1cds6\tWP_068386266.1\tBacteria\tCyanobacteria\tUNKNOWN\tSynechococcales\tLeptolyngbyaceae\tLeptolyngbya\tLeptolyngbya sp. NIES-3755\n",
      "\n",
      "BUG1cds7\tOGA44947.1\tBacteria\tProteobacteria\tBetaproteobacteria\tUNKNOWN\tUNKNOWN\tUNKNOWN\tBetaproteobacteria bacterium RIFCSPLOWO2_12_FULL_62_58\n",
      "\n",
      "BUG1cds8\tODJ87876.1\tBacteria\tProteobacteria\tGammaproteobacteria\tUNKNOWN\tUNKNOWN\tCandidatus Thiodiazotropha\tCandidatus Thiodiazotropha endolucinida\n",
      "\n",
      "BUG1cds10\tABK46072.1\tBacteria\tProteobacteria\tAlphaproteobacteria\tMagnetococcales\tMagnetococcaceae\tMagnetococcus\tMagnetococcus marinus\n",
      "\n",
      "BUG1cds11\tCRH07459.1\tBacteria\tUNKNOWN\tUNKNOWN\tUNKNOWN\tUNKNOWN\tUNKNOWN\tmagneto-ovoid bacterium MO-1\n",
      "\n",
      "BUG1cds12\tCRH07460.1\tBacteria\tUNKNOWN\tUNKNOWN\tUNKNOWN\tUNKNOWN\tUNKNOWN\tmagneto-ovoid bacterium MO-1\n",
      "\n",
      "BUG1cds13\tCRH07461.1\tBacteria\tUNKNOWN\tUNKNOWN\tUNKNOWN\tUNKNOWN\tUNKNOWN\tmagneto-ovoid bacterium MO-1\n",
      "\n"
     ]
    }
   ],
   "source": [
    "# how to iterate the lines in a file\n",
    "input_filename = 'BUG1.tsv'\n",
    "input_file = open(input_filename)\n",
    "count = 0\n",
    "for line in input_file:\n",
    "    if line.find('Bacteria') == -1:\n",
    "        # there was no 'Bacteria' in the line\n",
    "        continue  # jump to the next iteration of the loop\n",
    "    print(line)\n",
    "    count = count + 1\n",
    "    if count == 10:\n",
    "        break  # break means end the loop"
   ]
  },
  {
   "cell_type": "code",
   "execution_count": 9,
   "metadata": {},
   "outputs": [
    {
     "data": {
      "text/plain": [
       "'BUG1cds1\\tPKP60081.1\\tArchaea\\tEuryarchaeota\\tUNKNOWN\\tCandidatus Altiarchaeales\\tUNKNOWN\\tUNKNOWN\\tCandidatus Altiarchaeales archaeon HGW-Altiarchaeales-1\\n'"
      ]
     },
     "execution_count": 9,
     "metadata": {},
     "output_type": "execute_result"
    }
   ],
   "source": [
    "input_filename = 'BUG1.tsv'\n",
    "input_file = open(input_filename)\n",
    "count = 0\n",
    "for line in input_file:\n",
    "    count = count + 1\n",
    "    if count == 1:\n",
    "        break\n",
    "line"
   ]
  },
  {
   "cell_type": "code",
   "execution_count": 10,
   "metadata": {},
   "outputs": [
    {
     "data": {
      "text/plain": [
       "['BUG1cds1',\n",
       " 'PKP60081.1',\n",
       " 'Archaea',\n",
       " 'Euryarchaeota',\n",
       " 'UNKNOWN',\n",
       " 'Candidatus',\n",
       " 'Altiarchaeales',\n",
       " 'UNKNOWN',\n",
       " 'UNKNOWN',\n",
       " 'Candidatus',\n",
       " 'Altiarchaeales',\n",
       " 'archaeon',\n",
       " 'HGW-Altiarchaeales-1']"
      ]
     },
     "execution_count": 10,
     "metadata": {},
     "output_type": "execute_result"
    }
   ],
   "source": [
    "# split the line into fields\n",
    "fields = line.split()  # split on whitespace\n",
    "fields"
   ]
  },
  {
   "cell_type": "code",
   "execution_count": 11,
   "metadata": {},
   "outputs": [
    {
     "data": {
      "text/plain": [
       "['BUG1cds1',\n",
       " 'PKP60081.1',\n",
       " 'Archaea',\n",
       " 'Euryarchaeota',\n",
       " 'UNKNOWN',\n",
       " 'Candidatus Altiarchaeales',\n",
       " 'UNKNOWN',\n",
       " 'UNKNOWN',\n",
       " 'Candidatus Altiarchaeales archaeon HGW-Altiarchaeales-1\\n']"
      ]
     },
     "execution_count": 11,
     "metadata": {},
     "output_type": "execute_result"
    }
   ],
   "source": [
    "# split the line into fields\n",
    "fields = line.split('\\t')  # split on whitespace\n",
    "fields"
   ]
  },
  {
   "cell_type": "markdown",
   "metadata": {},
   "source": [
    "#### Challenges\n",
    "1. Write a function `head(filename, number)` that prints the first `number` lines of the file `filename`.\n",
    "2. Adapt the `head` function so that `number` now has a default value (think about `number=10`)\n",
    "3. Take the following code and complete it:\n",
    "```\n",
    "def tail(____, number=10):\n",
    "    \"\"\"tail - print the last lines of a file\n",
    "    \n",
    "    ____ - name of the file\n",
    "    number - number of lines to print\"\"\"\n",
    "    input_file = open(filename)\n",
    "    ring_buffer = []\n",
    "    count = 0\n",
    "    for line in input_file:\n",
    "        # add the line to the end of ring_buffer\n",
    "        ring_buffer.___(line)\n",
    "        # add 1 to count\n",
    "        count = ___\n",
    "        if count > number:\n",
    "            # remove the first element of the list\n",
    "            del _____\n",
    "    for line in ring_buffer:\n",
    "        # print out the lines with no end of line\n",
    "        print(line, end=____)\n",
    "```"
   ]
  },
  {
   "cell_type": "code",
   "execution_count": null,
   "metadata": {},
   "outputs": [],
   "source": []
  }
 ],
 "metadata": {
  "kernelspec": {
   "display_name": "Python 3",
   "language": "python",
   "name": "python3"
  },
  "language_info": {
   "codemirror_mode": {
    "name": "ipython",
    "version": 3
   },
   "file_extension": ".py",
   "mimetype": "text/x-python",
   "name": "python",
   "nbconvert_exporter": "python",
   "pygments_lexer": "ipython3",
   "version": "3.7.1"
  }
 },
 "nbformat": 4,
 "nbformat_minor": 2
}
