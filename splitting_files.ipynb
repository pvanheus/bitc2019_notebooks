{
 "cells": [
  {
   "cell_type": "code",
   "execution_count": 2,
   "metadata": {},
   "outputs": [
    {
     "name": "stdout",
     "output_type": "stream",
     "text": [
      "BUG1.tsv\n"
     ]
    }
   ],
   "source": [
    "import requests\n",
    "\n",
    "def fetch(url):\n",
    "    response = requests.get(url)\n",
    "    if response.status_code == 200:\n",
    "        output_filename = url.split('/')[-1]\n",
    "        print(output_filename)\n",
    "        output_file = open(output_filename, 'wb')\n",
    "        output_file.write(response.content)\n",
    "        output_file.close()\n",
    "        \n",
    "url = 'https://github.com/pvanheus/bitc2019_notebooks/raw/master/BUG1.tsv'\n",
    "fetch(url)"
   ]
  },
  {
   "cell_type": "code",
   "execution_count": 6,
   "metadata": {},
   "outputs": [
    {
     "name": "stdout",
     "output_type": "stream",
     "text": [
      "BUG1cds1\tPKP60081.1\tArchaea\tEuryarchaeota\tUNKNOWN\tCandidatus Altiarchaeales\tUNKNOWN\tUNKNOWN\tCandidatus Altiarchaeales archaeon HGW-Altiarchaeales-1\n",
      "\n",
      "BUG1cds2\tWP_106860599.1\tBacteria\tAcidobacteria\tSolibacteres\tSolibacterales\tSolibacteraceae\tCandidatus Sulfopaludibacter\tCandidatus Sulfopaludibacter sp. SbA4\n",
      "\n",
      "BUG1cds3\tCAX83945.1\tBacteria\tUNKNOWN\tUNKNOWN\tUNKNOWN\tUNKNOWN\tUNKNOWN\tuncultured bacterium\n",
      "\n",
      "BUG1cds4\tCAX83946.1\tBacteria\tUNKNOWN\tUNKNOWN\tUNKNOWN\tUNKNOWN\tUNKNOWN\tuncultured bacterium\n",
      "\n",
      "BUG1cds6\tWP_068386266.1\tBacteria\tCyanobacteria\tUNKNOWN\tSynechococcales\tLeptolyngbyaceae\tLeptolyngbya\tLeptolyngbya sp. NIES-3755\n",
      "\n",
      "BUG1cds7\tOGA44947.1\tBacteria\tProteobacteria\tBetaproteobacteria\tUNKNOWN\tUNKNOWN\tUNKNOWN\tBetaproteobacteria bacterium RIFCSPLOWO2_12_FULL_62_58\n",
      "\n",
      "BUG1cds8\tODJ87876.1\tBacteria\tProteobacteria\tGammaproteobacteria\tUNKNOWN\tUNKNOWN\tCandidatus Thiodiazotropha\tCandidatus Thiodiazotropha endolucinida\n",
      "\n",
      "BUG1cds10\tABK46072.1\tBacteria\tProteobacteria\tAlphaproteobacteria\tMagnetococcales\tMagnetococcaceae\tMagnetococcus\tMagnetococcus marinus\n",
      "\n",
      "BUG1cds11\tCRH07459.1\tBacteria\tUNKNOWN\tUNKNOWN\tUNKNOWN\tUNKNOWN\tUNKNOWN\tmagneto-ovoid bacterium MO-1\n",
      "\n",
      "BUG1cds12\tCRH07460.1\tBacteria\tUNKNOWN\tUNKNOWN\tUNKNOWN\tUNKNOWN\tUNKNOWN\tmagneto-ovoid bacterium MO-1\n",
      "\n"
     ]
    }
   ],
   "source": [
    "# how to iterate the lines in a file\n",
    "input_filename = 'BUG1.tsv'\n",
    "input_file = open(input_filename)\n",
    "count = 0\n",
    "for line in input_file:\n",
    "    print(line)\n",
    "    count = count + 1\n",
    "    if count == 10:\n",
    "        break"
   ]
  },
  {
   "cell_type": "code",
   "execution_count": 8,
   "metadata": {},
   "outputs": [
    {
     "name": "stdout",
     "output_type": "stream",
     "text": [
      "BUG1cds2\tWP_106860599.1\tBacteria\tAcidobacteria\tSolibacteres\tSolibacterales\tSolibacteraceae\tCandidatus Sulfopaludibacter\tCandidatus Sulfopaludibacter sp. SbA4\n",
      "\n",
      "BUG1cds3\tCAX83945.1\tBacteria\tUNKNOWN\tUNKNOWN\tUNKNOWN\tUNKNOWN\tUNKNOWN\tuncultured bacterium\n",
      "\n",
      "BUG1cds4\tCAX83946.1\tBacteria\tUNKNOWN\tUNKNOWN\tUNKNOWN\tUNKNOWN\tUNKNOWN\tuncultured bacterium\n",
      "\n",
      "BUG1cds6\tWP_068386266.1\tBacteria\tCyanobacteria\tUNKNOWN\tSynechococcales\tLeptolyngbyaceae\tLeptolyngbya\tLeptolyngbya sp. NIES-3755\n",
      "\n",
      "BUG1cds7\tOGA44947.1\tBacteria\tProteobacteria\tBetaproteobacteria\tUNKNOWN\tUNKNOWN\tUNKNOWN\tBetaproteobacteria bacterium RIFCSPLOWO2_12_FULL_62_58\n",
      "\n",
      "BUG1cds8\tODJ87876.1\tBacteria\tProteobacteria\tGammaproteobacteria\tUNKNOWN\tUNKNOWN\tCandidatus Thiodiazotropha\tCandidatus Thiodiazotropha endolucinida\n",
      "\n",
      "BUG1cds10\tABK46072.1\tBacteria\tProteobacteria\tAlphaproteobacteria\tMagnetococcales\tMagnetococcaceae\tMagnetococcus\tMagnetococcus marinus\n",
      "\n",
      "BUG1cds11\tCRH07459.1\tBacteria\tUNKNOWN\tUNKNOWN\tUNKNOWN\tUNKNOWN\tUNKNOWN\tmagneto-ovoid bacterium MO-1\n",
      "\n",
      "BUG1cds12\tCRH07460.1\tBacteria\tUNKNOWN\tUNKNOWN\tUNKNOWN\tUNKNOWN\tUNKNOWN\tmagneto-ovoid bacterium MO-1\n",
      "\n",
      "BUG1cds13\tCRH07461.1\tBacteria\tUNKNOWN\tUNKNOWN\tUNKNOWN\tUNKNOWN\tUNKNOWN\tmagneto-ovoid bacterium MO-1\n",
      "\n"
     ]
    }
   ],
   "source": [
    "# how to iterate the lines in a file\n",
    "input_filename = 'BUG1.tsv'\n",
    "input_file = open(input_filename)\n",
    "count = 0\n",
    "for line in input_file:\n",
    "    if line.find('Bacteria') == -1:\n",
    "        # there was no 'Bacteria' in the line\n",
    "        continue  # jump to the next iteration of the loop\n",
    "    print(line)\n",
    "    count = count + 1\n",
    "    if count == 10:\n",
    "        break  # break means end the loop"
   ]
  },
  {
   "cell_type": "code",
   "execution_count": 9,
   "metadata": {},
   "outputs": [
    {
     "data": {
      "text/plain": [
       "'BUG1cds1\\tPKP60081.1\\tArchaea\\tEuryarchaeota\\tUNKNOWN\\tCandidatus Altiarchaeales\\tUNKNOWN\\tUNKNOWN\\tCandidatus Altiarchaeales archaeon HGW-Altiarchaeales-1\\n'"
      ]
     },
     "execution_count": 9,
     "metadata": {},
     "output_type": "execute_result"
    }
   ],
   "source": [
    "input_filename = 'BUG1.tsv'\n",
    "input_file = open(input_filename)\n",
    "count = 0\n",
    "for line in input_file:\n",
    "    count = count + 1\n",
    "    if count == 1:\n",
    "        break\n",
    "line"
   ]
  },
  {
   "cell_type": "code",
   "execution_count": 10,
   "metadata": {},
   "outputs": [
    {
     "data": {
      "text/plain": [
       "['BUG1cds1',\n",
       " 'PKP60081.1',\n",
       " 'Archaea',\n",
       " 'Euryarchaeota',\n",
       " 'UNKNOWN',\n",
       " 'Candidatus',\n",
       " 'Altiarchaeales',\n",
       " 'UNKNOWN',\n",
       " 'UNKNOWN',\n",
       " 'Candidatus',\n",
       " 'Altiarchaeales',\n",
       " 'archaeon',\n",
       " 'HGW-Altiarchaeales-1']"
      ]
     },
     "execution_count": 10,
     "metadata": {},
     "output_type": "execute_result"
    }
   ],
   "source": [
    "# split the line into fields\n",
    "fields = line.split()  # split on whitespace\n",
    "fields"
   ]
  },
  {
   "cell_type": "code",
   "execution_count": 11,
   "metadata": {},
   "outputs": [
    {
     "data": {
      "text/plain": [
       "['BUG1cds1',\n",
       " 'PKP60081.1',\n",
       " 'Archaea',\n",
       " 'Euryarchaeota',\n",
       " 'UNKNOWN',\n",
       " 'Candidatus Altiarchaeales',\n",
       " 'UNKNOWN',\n",
       " 'UNKNOWN',\n",
       " 'Candidatus Altiarchaeales archaeon HGW-Altiarchaeales-1\\n']"
      ]
     },
     "execution_count": 11,
     "metadata": {},
     "output_type": "execute_result"
    }
   ],
   "source": [
    "# split the line into fields\n",
    "fields = line.split('\\t')  # split on whitespace\n",
    "fields"
   ]
  },
  {
   "cell_type": "code",
   "execution_count": 12,
   "metadata": {},
   "outputs": [
    {
     "name": "stdout",
     "output_type": "stream",
     "text": [
      "BUG1cds1 PKP60081.1 Archaea\n",
      "BUG1cds2 WP_106860599.1 Bacteria\n",
      "BUG1cds3 CAX83945.1 Bacteria\n",
      "BUG1cds4 CAX83946.1 Bacteria\n",
      "BUG1cds6 WP_068386266.1 Bacteria\n",
      "BUG1cds7 OGA44947.1 Bacteria\n",
      "BUG1cds8 ODJ87876.1 Bacteria\n",
      "BUG1cds10 ABK46072.1 Bacteria\n",
      "BUG1cds11 CRH07459.1 Bacteria\n",
      "BUG1cds12 CRH07460.1 Bacteria\n",
      "BUG1cds13 CRH07461.1 Bacteria\n",
      "BUG1cds14 CRH07462.1 Bacteria\n",
      "BUG1cds15 WP_110560041.1 Bacteria\n",
      "BUG1cds16 PYV43739.1 Bacteria\n",
      "BUG1cds17 WP_085442628.1 UNKNOWN/MULTIPLE\n",
      "BUG1cds18 WP_011715135.1 UNKNOWN/MULTIPLE\n",
      "BUG1cds19 PIE60033.1 Bacteria\n",
      "BUG1cds21 PTW31751.1 Bacteria\n",
      "BUG1cds22 WP_085447015.1 UNKNOWN/MULTIPLE\n",
      "BUG1cds23 CRH07737.1 Bacteria\n",
      "BUG1cds24 OSM00382.1 Bacteria\n",
      "BUG1cds25 WP_085441408.1 Bacteria\n",
      "BUG1cds26 WP_018954555.1 Bacteria\n",
      "BUG1cds27 WP_085446968.1 UNKNOWN/MULTIPLE\n",
      "BUG1cds28 CRH07741.1 Bacteria\n",
      "BUG1cds29 WP_085446972.1 UNKNOWN/MULTIPLE\n",
      "BUG1cds30 SCJ15643.1 Bacteria\n",
      "BUG1cds31 CRH07744.1 Bacteria\n",
      "BUG1cds32 WP_085446977.1 UNKNOWN/MULTIPLE\n",
      "BUG1cds33 ABK46213.1 Bacteria\n",
      "BUG1cds34 WP_085446981.1 UNKNOWN/MULTIPLE\n",
      "BUG1cds35 WP_085446983.1 UNKNOWN/MULTIPLE\n",
      "BUG1cds36 CRH07749.1 Bacteria\n",
      "BUG1cds37 WP_037586442.1 Bacteria\n",
      "BUG1cds38 WP_085446990.1 UNKNOWN/MULTIPLE\n",
      "BUG1cds39 CRH07752.1 Bacteria\n",
      "BUG1cds41 CRH07732.1 Bacteria\n",
      "BUG1cds42 WP_012970237.1 UNKNOWN/MULTIPLE\n",
      "BUG1cds43 OGP52712.1 Bacteria\n",
      "BUG1cds44 WP_085442046.1 Bacteria\n",
      "BUG1cds45 WP_084005408.1 Bacteria\n",
      "BUG1cds46 WP_101245531.1 UNKNOWN/MULTIPLE\n",
      "BUG1cds47 OHB70606.1 Bacteria\n",
      "BUG1cds49 WP_085441244.1 UNKNOWN/MULTIPLE\n",
      "BUG1cds50 WP_085441243.1 UNKNOWN/MULTIPLE\n",
      "BUG1cds51 CRH07717.1 Bacteria\n",
      "BUG1cds52 AIF68062.1 Bacteria\n",
      "BUG1cds53 WP_011711784.1 UNKNOWN/MULTIPLE\n",
      "BUG1cds55 KRT69908.1 Bacteria\n",
      "BUG1cds56 EDN71370.1 Bacteria\n",
      "BUG1cds59 PWT85066.1 Bacteria\n",
      "BUG1cds60 WP_011711722.1 UNKNOWN/MULTIPLE\n",
      "BUG1cds61 WP_011711720.1 UNKNOWN/MULTIPLE\n",
      "BUG1cds62 CRH07652.1 Bacteria\n",
      "BUG1cds64 WP_085441268.1 UNKNOWN/MULTIPLE\n",
      "BUG1cds66 WP_011711713.1 UNKNOWN/MULTIPLE\n",
      "BUG1cds67 WP_011711714.1 UNKNOWN/MULTIPLE\n",
      "BUG1cds68 WP_113064638.1 Bacteria\n",
      "BUG1cds69 WP_085441276.1 UNKNOWN/MULTIPLE\n",
      "BUG1cds70 OGW33117.1 Bacteria\n",
      "BUG1cds71 WP_085447113.1 Bacteria\n",
      "BUG1cds72 CRH07675.1 Bacteria\n",
      "BUG1cds73 WP_011711752.1 UNKNOWN/MULTIPLE\n",
      "BUG1cds74 WP_085447117.1 Bacteria\n",
      "BUG1cds75\u0000\u0000 Magnetococcaceae Magnetofaba\n"
     ]
    },
    {
     "ename": "IndexError",
     "evalue": "list index out of range",
     "output_type": "error",
     "traceback": [
      "\u001b[0;31m---------------------------------------------------------------------------\u001b[0m",
      "\u001b[0;31mIndexError\u001b[0m                                Traceback (most recent call last)",
      "\u001b[0;32m<ipython-input-12-99a13c63f3de>\u001b[0m in \u001b[0;36m<module>\u001b[0;34m\u001b[0m\n\u001b[1;32m      4\u001b[0m     \u001b[0mfields\u001b[0m \u001b[0;34m=\u001b[0m \u001b[0mline\u001b[0m\u001b[0;34m.\u001b[0m\u001b[0msplit\u001b[0m\u001b[0;34m(\u001b[0m\u001b[0;34m'\\t'\u001b[0m\u001b[0;34m)\u001b[0m\u001b[0;34m\u001b[0m\u001b[0;34m\u001b[0m\u001b[0m\n\u001b[1;32m      5\u001b[0m     \u001b[0mprotein_name\u001b[0m \u001b[0;34m=\u001b[0m \u001b[0mfields\u001b[0m\u001b[0;34m[\u001b[0m\u001b[0;36m0\u001b[0m\u001b[0;34m]\u001b[0m\u001b[0;34m\u001b[0m\u001b[0;34m\u001b[0m\u001b[0m\n\u001b[0;32m----> 6\u001b[0;31m     \u001b[0mrefseq_name\u001b[0m \u001b[0;34m=\u001b[0m \u001b[0mfields\u001b[0m\u001b[0;34m[\u001b[0m\u001b[0;36m1\u001b[0m\u001b[0;34m]\u001b[0m\u001b[0;34m\u001b[0m\u001b[0;34m\u001b[0m\u001b[0m\n\u001b[0m\u001b[1;32m      7\u001b[0m     \u001b[0mkingdom\u001b[0m \u001b[0;34m=\u001b[0m \u001b[0mfields\u001b[0m\u001b[0;34m[\u001b[0m\u001b[0;36m2\u001b[0m\u001b[0;34m]\u001b[0m\u001b[0;34m\u001b[0m\u001b[0;34m\u001b[0m\u001b[0m\n\u001b[1;32m      8\u001b[0m     \u001b[0mprint\u001b[0m\u001b[0;34m(\u001b[0m\u001b[0mprotein_name\u001b[0m\u001b[0;34m,\u001b[0m \u001b[0mrefseq_name\u001b[0m\u001b[0;34m,\u001b[0m \u001b[0mkingdom\u001b[0m\u001b[0;34m)\u001b[0m\u001b[0;34m\u001b[0m\u001b[0;34m\u001b[0m\u001b[0m\n",
      "\u001b[0;31mIndexError\u001b[0m: list index out of range"
     ]
    }
   ],
   "source": [
    "input_filename = 'BUG1.tsv'\n",
    "input_file = open(input_filename)\n",
    "for line in input_file:\n",
    "    fields = line.split('\\t')\n",
    "    protein_name = fields[0]\n",
    "    refseq_name = fields[1]\n",
    "    kingdom = fields[2]\n",
    "    print(protein_name, refseq_name, kingdom)"
   ]
  },
  {
   "cell_type": "markdown",
   "metadata": {},
   "source": [
    "#### Challenges\n",
    "1. Write a function `head(filename, number)` that prints the first `number` lines of the file `filename`.\n",
    "2. Adapt the `head` function so that `number` now has a default value (think about `number=10`)\n",
    "1. Write code to count how many of the lines in the `BUG1.tsv` file are from Bacteria kingdom.\n",
    "3. Take the following code and complete it:\n",
    "```\n",
    "def tail(____, number=10):\n",
    "    \"\"\"tail - print the last lines of a file\n",
    "    \n",
    "    ____ - name of the file\n",
    "    number - number of lines to print\"\"\"\n",
    "    input_file = open(filename)\n",
    "    ring_buffer = []\n",
    "    count = 0\n",
    "    for line in input_file:\n",
    "        # add the line to the end of ring_buffer\n",
    "        ring_buffer.___(line)\n",
    "        # add 1 to count\n",
    "        count = ___\n",
    "        if count > number:\n",
    "            # remove the first element of the list\n",
    "            del _____\n",
    "    for line in ring_buffer:\n",
    "        # print out the lines with no end of line\n",
    "        print(line, end=____)\n",
    "```"
   ]
  },
  {
   "cell_type": "code",
   "execution_count": null,
   "metadata": {},
   "outputs": [],
   "source": []
  }
 ],
 "metadata": {
  "kernelspec": {
   "display_name": "Python 3",
   "language": "python",
   "name": "python3"
  },
  "language_info": {
   "codemirror_mode": {
    "name": "ipython",
    "version": 3
   },
   "file_extension": ".py",
   "mimetype": "text/x-python",
   "name": "python",
   "nbconvert_exporter": "python",
   "pygments_lexer": "ipython3",
   "version": "3.7.1"
  }
 },
 "nbformat": 4,
 "nbformat_minor": 2
}
