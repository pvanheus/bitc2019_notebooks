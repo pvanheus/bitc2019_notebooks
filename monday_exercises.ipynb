{
 "cells": [
  {
   "cell_type": "markdown",
   "metadata": {},
   "source": [
    "### Monday Exercises"
   ]
  },
  {
   "cell_type": "markdown",
   "metadata": {},
   "source": [
    "#### Finding prime numbers\n",
    "\n",
    "An integer is prime if it is greater than 1 and only divisible by 1 and itself.\n",
    "\n",
    "A simple test to see if a number is prime is to try and divide it by each number from 2 through to the largest integer which is less than or equal to the square root of the number. I.e. if you want to test 25, you could try and divide by 2, 3, 4 and 5 (and find out that 5 divides into 25 so the number is not prime).\n",
    "\n",
    "Here is pseudocode for a testing whether a number is prime:\n",
    "\n",
    "1. Choose a positive integer greater than 2, let us call that numbers $X$\n",
    "2. Assume that $X$ is prime\n",
    "3. For each number (let us call it $Y$) from 2 through to square root of $X$\n",
    "    1. If $X$ is divisible by $Y$, it is not prime, and the loop can end\n",
    "4. If we get to the end of the loop without finding a number that divides into $X$, the number is prime\n",
    "\n",
    "You can get a square root of a number in Python using the `math.sqrt()` function from the `math` module. For example:\n",
    "\n",
    "```\n",
    "import math\n",
    "\n",
    "root = math.sqrt(125)\n",
    "```\n",
    "\n",
    "Write a function `is_prime(number)`. This function should return `True` if the `number` is prime, otherwise it should return `False`."
   ]
  },
  {
   "cell_type": "markdown",
   "metadata": {},
   "source": [
    "#### Using your function\n",
    "\n",
    "Using the `is_prime(number)` function created above, print all the prime numbers less than 100."
   ]
  },
  {
   "cell_type": "markdown",
   "metadata": {},
   "source": [
    "#### What is in the BUG?\n",
    "\n",
    "Below is some code that opens the `BUG1.tsv` file and prints out some of the fields in the file, specifically, the protein name, NCBI accession of the best matching protein, the kingdom of that match and the class of that match.\n",
    "\n",
    "1. Adapt the code to count how many alpha, beta, gamma and deltaproteobacteria matches there are.\n",
    "2. Besides these classes, what other bacterial classes are found in these matches? Write code to answer this question, returning the list of \"other classes\" as a list.\n",
    "3. Make a bar graph of how many alpha, beta, gamma and deltaproteobacteria matches there are.\n",
    "4. Explain what line 5 of the code does."
   ]
  },
  {
   "cell_type": "code",
   "execution_count": 13,
   "metadata": {},
   "outputs": [
    {
     "name": "stdout",
     "output_type": "stream",
     "text": [
      "BUG1cds1 PKP60081.1 Archaea UNKNOWN\n",
      "BUG1cds2 WP_106860599.1 Bacteria Solibacteres\n",
      "BUG1cds3 CAX83945.1 Bacteria UNKNOWN\n",
      "BUG1cds4 CAX83946.1 Bacteria UNKNOWN\n",
      "BUG1cds6 WP_068386266.1 Bacteria UNKNOWN\n",
      "BUG1cds7 OGA44947.1 Bacteria Betaproteobacteria\n",
      "BUG1cds8 ODJ87876.1 Bacteria Gammaproteobacteria\n",
      "BUG1cds10 ABK46072.1 Bacteria Alphaproteobacteria\n",
      "BUG1cds11 CRH07459.1 Bacteria UNKNOWN\n",
      "BUG1cds12 CRH07460.1 Bacteria UNKNOWN\n",
      "BUG1cds13 CRH07461.1 Bacteria UNKNOWN\n",
      "BUG1cds14 CRH07462.1 Bacteria UNKNOWN\n",
      "BUG1cds15 WP_110560041.1 Bacteria Alphaproteobacteria\n",
      "BUG1cds16 PYV43739.1 Bacteria UNKNOWN\n",
      "BUG1cds17 WP_085442628.1 UNKNOWN/MULTIPLE UNKNOWN/MULTIPLE\n",
      "BUG1cds18 WP_011715135.1 UNKNOWN/MULTIPLE UNKNOWN/MULTIPLE\n",
      "BUG1cds19 PIE60033.1 Bacteria Deltaproteobacteria\n",
      "BUG1cds21 PTW31751.1 Bacteria Betaproteobacteria\n",
      "BUG1cds22 WP_085447015.1 UNKNOWN/MULTIPLE UNKNOWN/MULTIPLE\n",
      "BUG1cds23 CRH07737.1 Bacteria UNKNOWN\n",
      "BUG1cds24 OSM00382.1 Bacteria Alphaproteobacteria\n",
      "BUG1cds25 WP_085441408.1 Bacteria Alphaproteobacteria\n",
      "BUG1cds26 WP_018954555.1 Bacteria Gammaproteobacteria\n",
      "BUG1cds27 WP_085446968.1 UNKNOWN/MULTIPLE UNKNOWN/MULTIPLE\n",
      "BUG1cds28 CRH07741.1 Bacteria UNKNOWN\n",
      "BUG1cds29 WP_085446972.1 UNKNOWN/MULTIPLE UNKNOWN/MULTIPLE\n",
      "BUG1cds30 SCJ15643.1 Bacteria Clostridia\n",
      "BUG1cds31 CRH07744.1 Bacteria UNKNOWN\n",
      "BUG1cds32 WP_085446977.1 UNKNOWN/MULTIPLE UNKNOWN/MULTIPLE\n",
      "BUG1cds33 ABK46213.1 Bacteria Alphaproteobacteria\n",
      "BUG1cds34 WP_085446981.1 UNKNOWN/MULTIPLE UNKNOWN/MULTIPLE\n",
      "BUG1cds35 WP_085446983.1 UNKNOWN/MULTIPLE UNKNOWN/MULTIPLE\n",
      "BUG1cds36 CRH07749.1 Bacteria UNKNOWN\n",
      "BUG1cds37 WP_037586442.1 Bacteria Betaproteobacteria\n",
      "BUG1cds38 WP_085446990.1 UNKNOWN/MULTIPLE UNKNOWN/MULTIPLE\n",
      "BUG1cds39 CRH07752.1 Bacteria UNKNOWN\n",
      "BUG1cds41 CRH07732.1 Bacteria UNKNOWN\n",
      "BUG1cds42 WP_012970237.1 UNKNOWN/MULTIPLE UNKNOWN/MULTIPLE\n",
      "BUG1cds43 OGP52712.1 Bacteria Deltaproteobacteria\n",
      "BUG1cds44 WP_085442046.1 Bacteria Alphaproteobacteria\n",
      "BUG1cds45 WP_084005408.1 Bacteria Alphaproteobacteria\n",
      "BUG1cds46 WP_101245531.1 UNKNOWN/MULTIPLE UNKNOWN/MULTIPLE\n",
      "BUG1cds47 OHB70606.1 Bacteria UNKNOWN\n",
      "BUG1cds49 WP_085441244.1 UNKNOWN/MULTIPLE UNKNOWN/MULTIPLE\n",
      "BUG1cds50 WP_085441243.1 UNKNOWN/MULTIPLE UNKNOWN/MULTIPLE\n",
      "BUG1cds51 CRH07717.1 Bacteria UNKNOWN\n",
      "BUG1cds52 AIF68062.1 Bacteria Bacilli\n",
      "BUG1cds53 WP_011711784.1 UNKNOWN/MULTIPLE UNKNOWN/MULTIPLE\n",
      "BUG1cds55 KRT69908.1 Bacteria UNKNOWN\n",
      "BUG1cds56 EDN71370.1 Bacteria Gammaproteobacteria\n",
      "BUG1cds59 PWT85066.1 Bacteria Blastocatellia\n",
      "BUG1cds60 WP_011711722.1 UNKNOWN/MULTIPLE UNKNOWN/MULTIPLE\n",
      "BUG1cds61 WP_011711720.1 UNKNOWN/MULTIPLE UNKNOWN/MULTIPLE\n",
      "BUG1cds62 CRH07652.1 Bacteria UNKNOWN\n",
      "BUG1cds64 WP_085441268.1 UNKNOWN/MULTIPLE UNKNOWN/MULTIPLE\n",
      "BUG1cds66 WP_011711713.1 UNKNOWN/MULTIPLE UNKNOWN/MULTIPLE\n",
      "BUG1cds67 WP_011711714.1 UNKNOWN/MULTIPLE UNKNOWN/MULTIPLE\n",
      "BUG1cds68 WP_113064638.1 Bacteria Gammaproteobacteria\n",
      "BUG1cds69 WP_085441276.1 UNKNOWN/MULTIPLE UNKNOWN/MULTIPLE\n",
      "BUG1cds70 OGW33117.1 Bacteria UNKNOWN\n",
      "BUG1cds71 WP_085447113.1 Bacteria Alphaproteobacteria\n",
      "BUG1cds72 CRH07675.1 Bacteria UNKNOWN\n",
      "BUG1cds73 WP_011711752.1 UNKNOWN/MULTIPLE UNKNOWN/MULTIPLE\n",
      "BUG1cds74 WP_085447117.1 Bacteria Alphaproteobacteria\n",
      "BUG1cds75 ERF83112.1 Bacteria Alphaproteobacteria\n",
      "BUG1cds76 CRH07677.1 Bacteria UNKNOWN\n",
      "BUG1cds77 CRH07678.1 Bacteria UNKNOWN\n",
      "BUG1cds78 CRH07679.1 Bacteria UNKNOWN\n",
      "BUG1cds79 WP_085442070.1 Bacteria Alphaproteobacteria\n",
      "BUG1cds81 CRH07681.1 Bacteria UNKNOWN\n",
      "BUG1cds82 WP_085442068.1 Bacteria Alphaproteobacteria\n",
      "BUG1cds83 CRH07683.1 Bacteria UNKNOWN\n",
      "BUG1cds84 WP_085442066.1 UNKNOWN/MULTIPLE UNKNOWN/MULTIPLE\n",
      "BUG1cds85 WP_049724631.1 Bacteria Gammaproteobacteria\n",
      "BUG1cds86 WP_085442064.1 UNKNOWN/MULTIPLE UNKNOWN/MULTIPLE\n",
      "BUG1cds87 CRH07687.1 Bacteria UNKNOWN\n",
      "BUG1cds88 WP_011711760.1 UNKNOWN/MULTIPLE UNKNOWN/MULTIPLE\n",
      "BUG1cds89 CRH07689.1 Bacteria UNKNOWN\n",
      "BUG1cds91 WP_094743379.1 Bacteria Deltaproteobacteria\n",
      "BUG1cds92 CBE69699.1 Bacteria UNKNOWN\n",
      "BUG1cds93 SEC13203.1 Bacteria Gammaproteobacteria\n",
      "BUG1cds95 WP_104424210.1 Bacteria Gammaproteobacteria\n",
      "BUG1cds96 WP_104424209.1 Bacteria Gammaproteobacteria\n",
      "BUG1cds97 EWY39251.1 Bacteria Alphaproteobacteria\n",
      "BUG1cds98 WP_068028244.1 Bacteria Alphaproteobacteria\n",
      "BUG1cds99 OEU84809.1 Bacteria Deltaproteobacteria\n",
      "BUG1cds100 KPA18213.1 Bacteria Deltaproteobacteria\n",
      "BUG1cds101 WP_085441995.1 UNKNOWN/MULTIPLE UNKNOWN/MULTIPLE\n",
      "BUG1cds102 WP_017075284.1 UNKNOWN/MULTIPLE UNKNOWN/MULTIPLE\n",
      "BUG1cds104 KPJ77310.1 Bacteria Deltaproteobacteria\n",
      "BUG1cds105 PCI42190.1 Bacteria Alphaproteobacteria\n",
      "BUG1cds106 WP_011713185.1 UNKNOWN/MULTIPLE UNKNOWN/MULTIPLE\n",
      "BUG1cds108 PJB71243.1 Bacteria Alphaproteobacteria\n",
      "BUG1cds109 KJU81923.1 Bacteria Nitrospira\n",
      "BUG1cds110 WP_011712772.1 UNKNOWN/MULTIPLE UNKNOWN/MULTIPLE\n",
      "BUG1cds111 WP_009782799.1 Bacteria UNKNOWN\n",
      "BUG1cds112 WP_087542547.1 Bacteria UNKNOWN\n",
      "BUG1cds113 WP_018290107.1 Bacteria Verrucomicrobiae\n",
      "BUG1cds114 GBD00740.1 Bacteria UNKNOWN\n",
      "BUG1cds115 WP_099343085.1 UNKNOWN/MULTIPLE UNKNOWN/MULTIPLE\n",
      "BUG1cds116 WP_089728935.1 Bacteria Gammaproteobacteria\n",
      "BUG1cds118 WP_085441499.1 Bacteria Alphaproteobacteria\n",
      "BUG1cds119 WP_066723747.1 Bacteria Deltaproteobacteria\n",
      "BUG1cds120 PKM46580.1 Bacteria Gammaproteobacteria\n",
      "BUG1cds121 OGT34127.1 Bacteria Gammaproteobacteria\n",
      "BUG1cds122 SIS40075.1 Bacteria Alphaproteobacteria\n"
     ]
    }
   ],
   "source": [
    "input_filename = 'BUG1.tsv'\n",
    "input_file = open(input_filename)\n",
    "alpha = beta = gamma = delta = 0\n",
    "for line in input_file:\n",
    "    fields = line.strip().split('\\t')\n",
    "    if len(fields) != 9:\n",
    "        continue\n",
    "    protein_name = fields[0]\n",
    "    ncbi_accession = fields[1]\n",
    "    kingdom = fields[2]\n",
    "    phylum = fields[3]\n",
    "    bio_class = fields[4]\n",
    "    print(protein_name, ncbi_accession, kingdom, bio_class)"
   ]
  },
  {
   "cell_type": "markdown",
   "metadata": {},
   "source": [
    "#### Google result for testing if a number is prime (in Python)\n",
    "https://linuxconfig.org/function-to-check-for-a-prime-number-with-python"
   ]
  },
  {
   "cell_type": "code",
   "execution_count": 12,
   "metadata": {},
   "outputs": [],
   "source": [
    "import math\n",
    "\n",
    "def is_prime(X):\n",
    "    X_is_prime = True\n",
    "    sqrt_of_X = math.sqrt(X)\n",
    "    # print(sqrt_of_X)\n",
    "    for Y in range(2, int(sqrt_of_X)+1):\n",
    "        # print(X, Y)\n",
    "        if X % Y == 0:\n",
    "            X_is_prime = False\n",
    "            break\n",
    "    return X_is_prime"
   ]
  },
  {
   "cell_type": "code",
   "execution_count": 13,
   "metadata": {},
   "outputs": [
    {
     "data": {
      "text/plain": [
       "False"
      ]
     },
     "execution_count": 13,
     "metadata": {},
     "output_type": "execute_result"
    }
   ],
   "source": [
    "is_prime(4)"
   ]
  },
  {
   "cell_type": "code",
   "execution_count": 2,
   "metadata": {},
   "outputs": [
    {
     "data": {
      "text/plain": [
       "False"
      ]
     },
     "execution_count": 2,
     "metadata": {},
     "output_type": "execute_result"
    }
   ],
   "source": [
    "is_prime(10)"
   ]
  },
  {
   "cell_type": "code",
   "execution_count": 3,
   "metadata": {},
   "outputs": [
    {
     "data": {
      "text/plain": [
       "True"
      ]
     },
     "execution_count": 3,
     "metadata": {},
     "output_type": "execute_result"
    }
   ],
   "source": [
    "is_prime(7)"
   ]
  },
  {
   "cell_type": "code",
   "execution_count": 14,
   "metadata": {},
   "outputs": [
    {
     "name": "stdout",
     "output_type": "stream",
     "text": [
      "2\n",
      "3\n",
      "5\n",
      "7\n",
      "11\n",
      "13\n",
      "17\n",
      "19\n",
      "23\n",
      "29\n",
      "31\n",
      "37\n",
      "41\n",
      "43\n",
      "47\n",
      "53\n",
      "59\n",
      "61\n",
      "67\n",
      "71\n",
      "73\n",
      "79\n",
      "83\n",
      "89\n",
      "97\n"
     ]
    }
   ],
   "source": [
    "for number in range(2, 100):\n",
    "    if is_prime(number):\n",
    "        print(number)"
   ]
  },
  {
   "cell_type": "code",
   "execution_count": 15,
   "metadata": {},
   "outputs": [],
   "source": [
    "primes = []\n",
    "for number in range(2, 100):\n",
    "    if is_prime(number):\n",
    "        primes.append(number)"
   ]
  },
  {
   "cell_type": "code",
   "execution_count": 17,
   "metadata": {},
   "outputs": [
    {
     "name": "stdout",
     "output_type": "stream",
     "text": [
      "[2, 3, 5, 7, 11, 13, 17, 19, 23, 29, 31, 37, 41, 43, 47, 53, 59, 61, 67, 71, 73, 79, 83, 89, 97]\n",
      "25\n"
     ]
    }
   ],
   "source": [
    "print(primes)\n",
    "print(len(primes))"
   ]
  },
  {
   "cell_type": "code",
   "execution_count": 30,
   "metadata": {},
   "outputs": [
    {
     "name": "stdout",
     "output_type": "stream",
     "text": [
      "Alphaproteobacteria 18\n",
      "Betaproteobacteria 3\n",
      "Gammaproteobacteria 11\n",
      "Deltaproteobacteria 7\n",
      "Other classes ['Solibacteres', 'UNKNOWN', 'UNKNOWN', 'UNKNOWN', 'UNKNOWN', 'UNKNOWN', 'UNKNOWN', 'UNKNOWN', 'UNKNOWN', 'UNKNOWN', 'UNKNOWN', 'Clostridia', 'UNKNOWN', 'UNKNOWN', 'UNKNOWN', 'UNKNOWN', 'UNKNOWN', 'UNKNOWN', 'Bacilli', 'UNKNOWN', 'Blastocatellia', 'UNKNOWN', 'UNKNOWN', 'UNKNOWN', 'UNKNOWN', 'UNKNOWN', 'UNKNOWN', 'UNKNOWN', 'UNKNOWN', 'UNKNOWN', 'UNKNOWN', 'UNKNOWN', 'Nitrospira', 'UNKNOWN', 'UNKNOWN', 'Verrucomicrobiae', 'UNKNOWN']\n"
     ]
    }
   ],
   "source": [
    "count = 0\n",
    "input_filename = 'BUG1.tsv'\n",
    "input_file = open(input_filename)\n",
    "alpha = beta = gamma = delta = 0\n",
    "my_list = []   \n",
    "for line in input_file:\n",
    "    count = count + 1\n",
    "    fields = line.strip().split('\\t')\n",
    "    if len(fields) != 9:\n",
    "        continue\n",
    "    protein_name = fields[0]\n",
    "    ncbi_accession = fields[1]\n",
    "    kingdom = fields[2]\n",
    "    phylum = fields[3]\n",
    "    bio_class = fields[4]\n",
    "    # print(protein_name, ncbi_accession, kingdom, bio_class)\n",
    "    if kingdom == 'Bacteria':\n",
    "        if bio_class == 'Betaproteobacteria':\n",
    "            beta = beta + 1\n",
    "        elif bio_class == 'Alphaproteobacteria':\n",
    "            alpha = alpha + 1\n",
    "        elif bio_class == 'Gammaproteobacteria':\n",
    "            gamma = gamma + 1\n",
    "        elif bio_class == 'Deltaproteobacteria':\n",
    "            delta = delta + 1\n",
    "        else:\n",
    "            my_list.append(bio_class)\n",
    "print('Alphaproteobacteria', alpha)        \n",
    "print('Betaproteobacteria', beta)\n",
    "print('Gammaproteobacteria', gamma)\n",
    "print('Deltaproteobacteria', delta)\n",
    "print('Other classes', my_list)"
   ]
  },
  {
   "cell_type": "code",
   "execution_count": 38,
   "metadata": {},
   "outputs": [
    {
     "data": {
      "image/png": "[encoded data removed]",
      "text/plain": [
       "<Figure size 432x288 with 1 Axes>"
      ]
     },
     "metadata": {
      "needs_background": "light"
     },
     "output_type": "display_data"
    }
   ],
   "source": [
    "import matplotlib.pyplot as plt\n",
    "%matplotlib inline\n",
    "\n",
    "names = ['Alphaproteobacteria', 'Betaproteobacteria',\n",
    "        'Gammaproteobacteria', 'Deltaproteobacteria']\n",
    "counts = [18, 3, 11, 7]\n",
    "plt.bar(names,counts)\n",
    "plt.xticks(rotation=90)\n",
    "plt.yticks(ticks=range(19))\n",
    "plt.xlabel('Biological Class')\n",
    "plt.show()"
   ]
  },
  {
   "cell_type": "code",
   "execution_count": null,
   "metadata": {},
   "outputs": [],
   "source": []
  }
 ],
 "metadata": {
  "kernelspec": {
   "display_name": "Python 3",
   "language": "python",
   "name": "python3"
  },
  "language_info": {
   "codemirror_mode": {
    "name": "ipython",
    "version": 3
   },
   "file_extension": ".py",
   "mimetype": "text/x-python",
   "name": "python",
   "nbconvert_exporter": "python",
   "pygments_lexer": "ipython3",
   "version": "3.7.1"
  }
 },
 "nbformat": 4,
 "nbformat_minor": 2
}
