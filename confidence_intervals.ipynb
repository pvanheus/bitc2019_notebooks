{
 "cells": [
  {
   "cell_type": "markdown",
   "metadata": {},
   "source": [
    "$$\\bar{x} - z_{crit}{\\frac{\\sigma}{\\sqrt{N}}} \\leq \\mu \\leq \\bar{x} + z_{crit}{\\frac{\\sigma}{\\sqrt{N}}} $$"
   ]
  },
  {
   "cell_type": "code",
   "execution_count": 46,
   "metadata": {},
   "outputs": [
    {
     "name": "stdout",
     "output_type": "stream",
     "text": [
      "95 % z: 1.959963984540054\n",
      "90 % z: 1.6448536269514722\n",
      "99 % z: 2.5758293035489004\n"
     ]
    }
   ],
   "source": [
    "import scipy.stats\n",
    "# z score for 95% confidence interface\n",
    "def z_value(interval):\n",
    "    num = interval / 100\n",
    "#     print(num)\n",
    "    return scipy.stats.norm.interval(num)[1]\n",
    "\n",
    "for interval in [95, 90, 99]:\n",
    "     print(interval, \"% z:\", z_value(interval))"
   ]
  },
  {
   "cell_type": "code",
   "execution_count": 47,
   "metadata": {},
   "outputs": [
    {
     "name": "stdout",
     "output_type": "stream",
     "text": [
      "90% (34.89814213081356, 40.901857869186436)\n",
      "99% (33.199111521023255, 42.60088847897674)\n"
     ]
    }
   ],
   "source": [
    "import math\n",
    "\n",
    "sigma = 7.3\n",
    "x_bar = 37.9\n",
    "N = 16\n",
    "def bounds(interval, sigma, x_bar, N):\n",
    "    offset = z_value(interval) * sigma / math.sqrt(N)\n",
    "    return (x_bar - offset, x_bar + offset)\n",
    "\n",
    "print(\"90%\", bounds(90, sigma, x_bar, N))\n",
    "print(\"99%\", bounds(99, sigma, x_bar, N))"
   ]
  },
  {
   "cell_type": "markdown",
   "metadata": {},
   "source": [
    "$$ \\bar{x} - t_{\\frac{\\alpha}{2}, N-1} \\frac{s}{\\sqrt{N}} \\leq \\mu \\leq \\bar{x} + t_{\\frac{\\alpha}{2}, N-1} \\frac{s}{\\sqrt{N}}$$"
   ]
  },
  {
   "cell_type": "code",
   "execution_count": 53,
   "metadata": {},
   "outputs": [
    {
     "name": "stdout",
     "output_type": "stream",
     "text": [
      "26 N 95% confidence 2.059538552753294\n"
     ]
    }
   ],
   "source": [
    "def t_value(interval, N):\n",
    "    degrees_of_freedom = N - 1\n",
    "    return scipy.stats.t(degrees_of_freedom).interval(interval/100)[1]\n",
    "print(26, \"N 95% confidence\", t_value(95, 26))"
   ]
  },
  {
   "cell_type": "code",
   "execution_count": 59,
   "metadata": {},
   "outputs": [],
   "source": [
    "def t_bounds(interval, sd, sample_mean, N):\n",
    "    offset = t_value(interval, N) * sd / math.sqrt(N)\n",
    "    return (sample_mean - offset, sample_mean + offset)"
   ]
  },
  {
   "cell_type": "code",
   "execution_count": 60,
   "metadata": {},
   "outputs": [
    {
     "data": {
      "text/plain": [
       "(73.7882737765978, 76.2117262234022)"
      ]
     },
     "execution_count": 60,
     "metadata": {},
     "output_type": "execute_result"
    }
   ],
   "source": [
    "t_bounds(95, 3, 75, 26)"
   ]
  },
  {
   "cell_type": "code",
   "execution_count": null,
   "metadata": {},
   "outputs": [],
   "source": []
  }
 ],
 "metadata": {
  "kernelspec": {
   "display_name": "Python [anaconda3]",
   "language": "python",
   "name": "Python [anaconda3]"
  },
  "language_info": {
   "codemirror_mode": {
    "name": "ipython",
    "version": 3
   },
   "file_extension": ".py",
   "mimetype": "text/x-python",
   "name": "python",
   "nbconvert_exporter": "python",
   "pygments_lexer": "ipython3",
   "version": "3.5.4"
  }
 },
 "nbformat": 4,
 "nbformat_minor": 2
}
