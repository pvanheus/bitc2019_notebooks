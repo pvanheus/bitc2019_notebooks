{
 "cells": [
  {
   "cell_type": "code",
   "execution_count": 2,
   "metadata": {},
   "outputs": [
    {
     "name": "stdout",
     "output_type": "stream",
     "text": [
      "extracting: python_for_biologists_exercises.zip\n"
     ]
    }
   ],
   "source": [
    "import requests\n",
    "import zipfile\n",
    "\n",
    "url = 'https://pythonforbiologists.com/s/python_for_biologists_exercises.zip'\n",
    "\n",
    "def fetch_and_unpack(url):\n",
    "    response = requests.get(url)\n",
    "    assert response.status_code == 200, \"Download failed for: \" + url\n",
    "    filename = url.split('/')[-1]\n",
    "    output_file = open(filename, 'wb')\n",
    "    output_file.write(response.content)\n",
    "    output_file.close()\n",
    "    print('extracting:', filename)\n",
    "    zipped_file = zipfile.ZipFile(filename)\n",
    "    zipped_file.extractall()\n",
    "\n",
    "fetch_and_unpack(url)"
   ]
  },
  {
   "cell_type": "code",
   "execution_count": 10,
   "metadata": {},
   "outputs": [],
   "source": [
    "dnafile = 'exercises and examples/reading_files/examples/dna.txt'"
   ]
  },
  {
   "cell_type": "code",
   "execution_count": 15,
   "metadata": {},
   "outputs": [],
   "source": [
    "my_file = open(dnafile)"
   ]
  },
  {
   "cell_type": "code",
   "execution_count": 16,
   "metadata": {},
   "outputs": [
    {
     "name": "stdout",
     "output_type": "stream",
     "text": [
      "<_io.TextIOWrapper name='exercises and examples/reading_files/examples/dna.txt' mode='r' encoding='UTF-8'>\n"
     ]
    }
   ],
   "source": [
    "print(my_file)"
   ]
  },
  {
   "cell_type": "code",
   "execution_count": 17,
   "metadata": {},
   "outputs": [
    {
     "name": "stdout",
     "output_type": "stream",
     "text": [
      "ACTGTACGTGCACTGATC\n",
      "\n"
     ]
    }
   ],
   "source": [
    "my_dna = my_file.read()\n",
    "print(my_dna)"
   ]
  },
  {
   "cell_type": "code",
   "execution_count": 18,
   "metadata": {},
   "outputs": [
    {
     "name": "stdout",
     "output_type": "stream",
     "text": [
      "hello\n"
     ]
    }
   ],
   "source": [
    "print(\"hello\")"
   ]
  },
  {
   "cell_type": "code",
   "execution_count": 19,
   "metadata": {},
   "outputs": [
    {
     "data": {
      "text/plain": [
       "'ACTGTACGTGCACTGATC\\n'"
      ]
     },
     "execution_count": 19,
     "metadata": {},
     "output_type": "execute_result"
    }
   ],
   "source": [
    "my_dna"
   ]
  },
  {
   "cell_type": "code",
   "execution_count": 23,
   "metadata": {},
   "outputs": [],
   "source": [
    "# filename aka. path or file path\n",
    "dnafile = 'exercises and examples/reading_files/examples/dna.txt'\n",
    "# file object aka. file handle\n",
    "my_file = open(dnafile)\n",
    "# file contents\n",
    "my_dna = my_file.read()"
   ]
  },
  {
   "cell_type": "code",
   "execution_count": 25,
   "metadata": {},
   "outputs": [
    {
     "name": "stdout",
     "output_type": "stream",
     "text": [
      "first time: ACTGTACGTGCACTGATC\n",
      "\n",
      "second time: \n"
     ]
    }
   ],
   "source": [
    "my_file = open(dnafile)\n",
    "my_dna = my_file.read()\n",
    "print(\"first time:\", my_dna)\n",
    "my_dna2 = my_file.read()\n",
    "print(\"second time:\", my_dna2)"
   ]
  },
  {
   "cell_type": "markdown",
   "metadata": {},
   "source": [
    "my_file = open(dnafile)\n",
    "my_dna = my_file.read(5) # ready 5 characters\n",
    "print(\"first time:\", my_dna)\n",
    "my_dna2 = my_file.read(5)  # another 5 characters\n",
    "print(\"second time:\", my_dna2)\n",
    "my_dna3 = my_file.read()  # read the rest\n",
    "print(\"third time:\", my_dna3)"
   ]
  },
  {
   "cell_type": "markdown",
   "metadata": {},
   "source": [
    "#### Newlines"
   ]
  },
  {
   "cell_type": "code",
   "execution_count": 29,
   "metadata": {},
   "outputs": [
    {
     "name": "stdout",
     "output_type": "stream",
     "text": [
      "No\n"
     ]
    }
   ],
   "source": [
    "dna = 'ACTGTACGTGCACTGATC'\n",
    "my_file = open(dnafile)\n",
    "file_contents = my_file.read()\n",
    "if dna == file_contents:\n",
    "    print('Yes')\n",
    "else:\n",
    "    print('No')"
   ]
  },
  {
   "cell_type": "code",
   "execution_count": 31,
   "metadata": {},
   "outputs": [
    {
     "name": "stdout",
     "output_type": "stream",
     "text": [
      "Yes\n"
     ]
    }
   ],
   "source": [
    "dna_with_eol = 'ACTGTACGTGCACTGATC\\n'\n",
    "my_file = open(dnafile)\n",
    "file_contents = my_file.read()\n",
    "if dna_with_eol == file_contents:\n",
    "    print('Yes')\n",
    "else:\n",
    "    print('No')"
   ]
  },
  {
   "cell_type": "code",
   "execution_count": 32,
   "metadata": {},
   "outputs": [
    {
     "name": "stdout",
     "output_type": "stream",
     "text": [
      "Yes\n"
     ]
    }
   ],
   "source": [
    "dna = 'ACTGTACGTGCACTGATC'\n",
    "my_file = open(dnafile)\n",
    "file_contents = my_file.read()\n",
    "stripped_file_contents = file_contents.rstrip()\n",
    "if dna == stripped_file_contents:\n",
    "    print('Yes')\n",
    "else:\n",
    "    print('No')"
   ]
  },
  {
   "cell_type": "code",
   "execution_count": 33,
   "metadata": {},
   "outputs": [
    {
     "name": "stdout",
     "output_type": "stream",
     "text": [
      ":GACCTACG: :GACCTACG\n"
     ]
    }
   ],
   "source": [
    "mydata = ':GACCTACG:'\n",
    "stripped_data = mydata.rstrip(':')\n",
    "print(mydata, stripped_data)"
   ]
  },
  {
   "cell_type": "code",
   "execution_count": null,
   "metadata": {},
   "outputs": [],
   "source": []
  }
 ],
 "metadata": {
  "kernelspec": {
   "display_name": "Python [anaconda3]",
   "language": "python",
   "name": "Python [anaconda3]"
  },
  "language_info": {
   "codemirror_mode": {
    "name": "ipython",
    "version": 3
   },
   "file_extension": ".py",
   "mimetype": "text/x-python",
   "name": "python",
   "nbconvert_exporter": "python",
   "pygments_lexer": "ipython3",
   "version": "3.5.4"
  }
 },
 "nbformat": 4,
 "nbformat_minor": 2
}
