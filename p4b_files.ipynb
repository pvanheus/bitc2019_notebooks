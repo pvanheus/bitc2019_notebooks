{
 "cells": [
  {
   "cell_type": "code",
   "execution_count": 2,
   "metadata": {},
   "outputs": [
    {
     "name": "stdout",
     "output_type": "stream",
     "text": [
      "extracting: python_for_biologists_exercises.zip\n"
     ]
    }
   ],
   "source": [
    "import requests\n",
    "import zipfile\n",
    "\n",
    "url = 'https://pythonforbiologists.com/s/python_for_biologists_exercises.zip'\n",
    "\n",
    "def fetch_and_unpack(url):\n",
    "    response = requests.get(url)\n",
    "    assert response.status_code == 200, \"Download failed for: \" + url\n",
    "    filename = url.split('/')[-1]\n",
    "    output_file = open(filename, 'wb')\n",
    "    output_file.write(response.content)\n",
    "    output_file.close()\n",
    "    print('extracting:', filename)\n",
    "    zipped_file = zipfile.ZipFile(filename)\n",
    "    zipped_file.extractall()\n",
    "\n",
    "fetch_and_unpack(url)"
   ]
  },
  {
   "cell_type": "code",
   "execution_count": 9,
   "metadata": {},
   "outputs": [],
   "source": [
    "dnafile = 'exercises and examples/reading_files/examples/dna.txt'"
   ]
  }
 ],
 "metadata": {
  "kernelspec": {
   "display_name": "Python [anaconda3]",
   "language": "python",
   "name": "Python [anaconda3]"
  },
  "language_info": {
   "codemirror_mode": {
    "name": "ipython",
    "version": 3
   },
   "file_extension": ".py",
   "mimetype": "text/x-python",
   "name": "python",
   "nbconvert_exporter": "python",
   "pygments_lexer": "ipython3",
   "version": "3.5.4"
  }
 },
 "nbformat": 4,
 "nbformat_minor": 2
}
