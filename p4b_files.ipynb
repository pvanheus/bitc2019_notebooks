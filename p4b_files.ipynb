{
 "cells": [
  {
   "cell_type": "code",
   "execution_count": 2,
   "metadata": {},
   "outputs": [
    {
     "name": "stdout",
     "output_type": "stream",
     "text": [
      "extracting: python_for_biologists_exercises.zip\n"
     ]
    }
   ],
   "source": [
    "import requests\n",
    "import zipfile\n",
    "\n",
    "url = 'https://pythonforbiologists.com/s/python_for_biologists_exercises.zip'\n",
    "\n",
    "def fetch_and_unpack(url):\n",
    "    response = requests.get(url)\n",
    "    assert response.status_code == 200, \"Download failed for: \" + url\n",
    "    filename = url.split('/')[-1]\n",
    "    output_file = open(filename, 'wb')\n",
    "    output_file.write(response.content)\n",
    "    output_file.close()\n",
    "    print('extracting:', filename)\n",
    "    zipped_file = zipfile.ZipFile(filename)\n",
    "    zipped_file.extractall()\n",
    "\n",
    "fetch_and_unpack(url)"
   ]
  },
  {
   "cell_type": "code",
   "execution_count": 10,
   "metadata": {},
   "outputs": [],
   "source": [
    "dnafile = 'exercises and examples/reading_files/examples/dna.txt'"
   ]
  },
  {
   "cell_type": "code",
   "execution_count": 15,
   "metadata": {},
   "outputs": [],
   "source": [
    "my_file = open(dnafile)"
   ]
  },
  {
   "cell_type": "code",
   "execution_count": 16,
   "metadata": {},
   "outputs": [
    {
     "name": "stdout",
     "output_type": "stream",
     "text": [
      "<_io.TextIOWrapper name='exercises and examples/reading_files/examples/dna.txt' mode='r' encoding='UTF-8'>\n"
     ]
    }
   ],
   "source": [
    "print(my_file)"
   ]
  },
  {
   "cell_type": "code",
   "execution_count": 17,
   "metadata": {},
   "outputs": [
    {
     "name": "stdout",
     "output_type": "stream",
     "text": [
      "ACTGTACGTGCACTGATC\n",
      "\n"
     ]
    }
   ],
   "source": [
    "my_dna = my_file.read()\n",
    "print(my_dna)"
   ]
  },
  {
   "cell_type": "code",
   "execution_count": 18,
   "metadata": {},
   "outputs": [
    {
     "name": "stdout",
     "output_type": "stream",
     "text": [
      "hello\n"
     ]
    }
   ],
   "source": [
    "print(\"hello\")"
   ]
  },
  {
   "cell_type": "code",
   "execution_count": 19,
   "metadata": {},
   "outputs": [
    {
     "data": {
      "text/plain": [
       "'ACTGTACGTGCACTGATC\\n'"
      ]
     },
     "execution_count": 19,
     "metadata": {},
     "output_type": "execute_result"
    }
   ],
   "source": [
    "my_dna"
   ]
  },
  {
   "cell_type": "code",
   "execution_count": 23,
   "metadata": {},
   "outputs": [],
   "source": [
    "# filename aka. path or file path\n",
    "dnafile = 'exercises and examples/reading_files/examples/dna.txt'\n",
    "# file object aka. file handle\n",
    "my_file = open(dnafile)\n",
    "# file contents\n",
    "my_dna = my_file.read()"
   ]
  },
  {
   "cell_type": "code",
   "execution_count": 25,
   "metadata": {},
   "outputs": [
    {
     "name": "stdout",
     "output_type": "stream",
     "text": [
      "first time: ACTGTACGTGCACTGATC\n",
      "\n",
      "second time: \n"
     ]
    }
   ],
   "source": [
    "my_file = open(dnafile)\n",
    "my_dna = my_file.read()\n",
    "print(\"first time:\", my_dna)\n",
    "my_dna2 = my_file.read()\n",
    "print(\"second time:\", my_dna2)"
   ]
  },
  {
   "cell_type": "markdown",
   "metadata": {},
   "source": [
    "my_file = open(dnafile)\n",
    "my_dna = my_file.read(5) # ready 5 characters\n",
    "print(\"first time:\", my_dna)\n",
    "my_dna2 = my_file.read(5)  # another 5 characters\n",
    "print(\"second time:\", my_dna2)\n",
    "my_dna3 = my_file.read()  # read the rest\n",
    "print(\"third time:\", my_dna3)"
   ]
  },
  {
   "cell_type": "markdown",
   "metadata": {},
   "source": [
    "#### Newlines"
   ]
  },
  {
   "cell_type": "code",
   "execution_count": 29,
   "metadata": {},
   "outputs": [
    {
     "name": "stdout",
     "output_type": "stream",
     "text": [
      "No\n"
     ]
    }
   ],
   "source": [
    "dna = 'ACTGTACGTGCACTGATC'\n",
    "my_file = open(dnafile)\n",
    "file_contents = my_file.read()\n",
    "if dna == file_contents:\n",
    "    print('Yes')\n",
    "else:\n",
    "    print('No')"
   ]
  },
  {
   "cell_type": "code",
   "execution_count": 31,
   "metadata": {},
   "outputs": [
    {
     "name": "stdout",
     "output_type": "stream",
     "text": [
      "Yes\n"
     ]
    }
   ],
   "source": [
    "dna_with_eol = 'ACTGTACGTGCACTGATC\\n'\n",
    "my_file = open(dnafile)\n",
    "file_contents = my_file.read()\n",
    "if dna_with_eol == file_contents:\n",
    "    print('Yes')\n",
    "else:\n",
    "    print('No')"
   ]
  },
  {
   "cell_type": "code",
   "execution_count": 32,
   "metadata": {},
   "outputs": [
    {
     "name": "stdout",
     "output_type": "stream",
     "text": [
      "Yes\n"
     ]
    }
   ],
   "source": [
    "dna = 'ACTGTACGTGCACTGATC'\n",
    "my_file = open(dnafile)\n",
    "file_contents = my_file.read()\n",
    "stripped_file_contents = file_contents.rstrip()\n",
    "if dna == stripped_file_contents:\n",
    "    print('Yes')\n",
    "else:\n",
    "    print('No')"
   ]
  },
  {
   "cell_type": "code",
   "execution_count": 36,
   "metadata": {},
   "outputs": [
    {
     "name": "stdout",
     "output_type": "stream",
     "text": [
      "rstrip :GACC:TACG: :GACC:TACG\n",
      "lstrip :GACC:TACG: GACC:TACG:\n",
      "strip :GACC:TACG: GACC:TACG\n"
     ]
    }
   ],
   "source": [
    "mydata = ':GACC:TACG:'\n",
    "rstripped_data = mydata.rstrip(':')\n",
    "print('rstrip', mydata, rstripped_data)\n",
    "lstripped_data = mydata.lstrip(':')\n",
    "print('lstrip', mydata, lstripped_data)\n",
    "stripped_data = mydata.strip(':')\n",
    "print('strip', mydata, stripped_data)"
   ]
  },
  {
   "cell_type": "markdown",
   "metadata": {},
   "source": [
    "#### Writing to files"
   ]
  },
  {
   "cell_type": "code",
   "execution_count": 37,
   "metadata": {},
   "outputs": [],
   "source": [
    "output_file = open('out.txt', 'w')"
   ]
  },
  {
   "cell_type": "code",
   "execution_count": 38,
   "metadata": {},
   "outputs": [
    {
     "data": {
      "text/plain": [
       "18"
      ]
     },
     "execution_count": 38,
     "metadata": {},
     "output_type": "execute_result"
    }
   ],
   "source": [
    "dna = 'ACTGTACGTGCACTGATC'\n",
    "output_file.write(dna)"
   ]
  },
  {
   "cell_type": "code",
   "execution_count": 40,
   "metadata": {},
   "outputs": [],
   "source": [
    "# close file and write buffer to disk\n",
    "output_file.close()"
   ]
  },
  {
   "cell_type": "code",
   "execution_count": 41,
   "metadata": {},
   "outputs": [
    {
     "ename": "ValueError",
     "evalue": "I/O operation on closed file.",
     "output_type": "error",
     "traceback": [
      "\u001b[0;31m---------------------------------------------------------------------------\u001b[0m",
      "\u001b[0;31mValueError\u001b[0m                                Traceback (most recent call last)",
      "\u001b[0;32m<ipython-input-41-784ab520af8e>\u001b[0m in \u001b[0;36m<module>\u001b[0;34m()\u001b[0m\n\u001b[1;32m      1\u001b[0m \u001b[0;31m# try and write to a closed file\u001b[0m\u001b[0;34m\u001b[0m\u001b[0;34m\u001b[0m\u001b[0m\n\u001b[0;32m----> 2\u001b[0;31m \u001b[0moutput_file\u001b[0m\u001b[0;34m.\u001b[0m\u001b[0mwrite\u001b[0m\u001b[0;34m(\u001b[0m\u001b[0mdna\u001b[0m\u001b[0;34m)\u001b[0m\u001b[0;34m\u001b[0m\u001b[0m\n\u001b[0m",
      "\u001b[0;31mValueError\u001b[0m: I/O operation on closed file."
     ]
    }
   ],
   "source": [
    "# try and write to a closed file\n",
    "output_file.write(dna)"
   ]
  },
  {
   "cell_type": "code",
   "execution_count": null,
   "metadata": {},
   "outputs": [],
   "source": []
  }
 ],
 "metadata": {
  "kernelspec": {
   "display_name": "Python [anaconda3]",
   "language": "python",
   "name": "Python [anaconda3]"
  },
  "language_info": {
   "codemirror_mode": {
    "name": "ipython",
    "version": 3
   },
   "file_extension": ".py",
   "mimetype": "text/x-python",
   "name": "python",
   "nbconvert_exporter": "python",
   "pygments_lexer": "ipython3",
   "version": "3.5.4"
  }
 },
 "nbformat": 4,
 "nbformat_minor": 2
}
