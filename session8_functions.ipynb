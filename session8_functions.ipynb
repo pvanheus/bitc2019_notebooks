{
 "cells": [
  {
   "cell_type": "code",
   "execution_count": 2,
   "metadata": {},
   "outputs": [],
   "source": [
    "weight_kg = 43\n",
    "weight_lb = weight_kg * 2.2"
   ]
  },
  {
   "cell_type": "code",
   "execution_count": 1,
   "metadata": {},
   "outputs": [],
   "source": [
    "def fahr_to_celsius(temp):\n",
    "    return ((temp - 32) * (5/9))"
   ]
  },
  {
   "cell_type": "code",
   "execution_count": 2,
   "metadata": {},
   "outputs": [
    {
     "data": {
      "text/plain": [
       "<function print>"
      ]
     },
     "execution_count": 2,
     "metadata": {},
     "output_type": "execute_result"
    }
   ],
   "source": [
    "print"
   ]
  },
  {
   "cell_type": "code",
   "execution_count": 3,
   "metadata": {},
   "outputs": [
    {
     "name": "stdout",
     "output_type": "stream",
     "text": [
      "\n"
     ]
    }
   ],
   "source": [
    "print()"
   ]
  },
  {
   "cell_type": "code",
   "execution_count": 5,
   "metadata": {},
   "outputs": [
    {
     "name": "stdout",
     "output_type": "stream",
     "text": [
      "37.77777777777778 C is 100 F\n"
     ]
    }
   ],
   "source": [
    "fahr_temp = 100\n",
    "celsius_temp = fahr_to_celsius(fahr_temp)\n",
    "print(celsius_temp, \"C is\", fahr_temp, \"F\")"
   ]
  },
  {
   "cell_type": "code",
   "execution_count": 7,
   "metadata": {},
   "outputs": [],
   "source": [
    "def celsius_to_kelvin(temp_c):\n",
    "    return temp_c + 273.15"
   ]
  },
  {
   "cell_type": "code",
   "execution_count": 8,
   "metadata": {},
   "outputs": [
    {
     "name": "stdout",
     "output_type": "stream",
     "text": [
      "32 F is 273.15 K\n"
     ]
    }
   ],
   "source": [
    "fahr_temp = 32\n",
    "kelvin_temp = celsius_to_kelvin(fahr_to_celsius(fahr_temp))\n",
    "print(fahr_temp,\"F is\",kelvin_temp,\"K\")"
   ]
  },
  {
   "cell_type": "code",
   "execution_count": 10,
   "metadata": {},
   "outputs": [],
   "source": [
    "def fahr_to_celsius(temp):\n",
    "    print((temp - 32) * (5/9))"
   ]
  },
  {
   "cell_type": "code",
   "execution_count": 11,
   "metadata": {},
   "outputs": [
    {
     "name": "stdout",
     "output_type": "stream",
     "text": [
      "37.77777777777778\n",
      "None C is 100 F\n"
     ]
    }
   ],
   "source": [
    "fahr_temp = 100\n",
    "celsius_temp = fahr_to_celsius(fahr_temp)\n",
    "print(celsius_temp, \"C is\", fahr_temp, \"F\")"
   ]
  },
  {
   "cell_type": "code",
   "execution_count": 14,
   "metadata": {},
   "outputs": [],
   "source": [
    "def word_type(word):\n",
    "    if word == 'apple' or word == 'pear':\n",
    "        return 'fruit'\n",
    "    elif word == 'cucumber' or word == 'tomato':\n",
    "        return 'vegetable'\n",
    "    else:\n",
    "        return 'unknown'\n",
    "    print('done')\n"
   ]
  },
  {
   "cell_type": "code",
   "execution_count": 16,
   "metadata": {},
   "outputs": [
    {
     "name": "stdout",
     "output_type": "stream",
     "text": [
      "apple is a fruit\n",
      "tomato is a vegetable\n"
     ]
    }
   ],
   "source": [
    "word = 'apple'\n",
    "print(word, \"is a\", word_type(word))\n",
    "word = 'tomato'\n",
    "print(word, \"is a\", word_type(word))"
   ]
  },
  {
   "cell_type": "code",
   "execution_count": 22,
   "metadata": {},
   "outputs": [],
   "source": [
    "import numpy\n",
    "import glob\n",
    "\n",
    "def detect_problems(filename):\n",
    "    data = numpy.loadtxt(fname=filename, delimiter=',')\n",
    "    \n",
    "    if numpy.max(data, axis=0)[0] == 0 and numpy.max(data, axis=0)[20] == 20:\n",
    "        print('Suspicious looking maxima!')\n",
    "        return True\n",
    "    else:\n",
    "        print('Seems OK!')\n",
    "        return False\n"
   ]
  },
  {
   "cell_type": "code",
   "execution_count": 18,
   "metadata": {},
   "outputs": [
    {
     "name": "stdout",
     "output_type": "stream",
     "text": [
      "Suspicious looking maxima!\n"
     ]
    }
   ],
   "source": [
    "detect_problems('data/inflammation-01.csv')"
   ]
  },
  {
   "cell_type": "code",
   "execution_count": 23,
   "metadata": {},
   "outputs": [
    {
     "name": "stdout",
     "output_type": "stream",
     "text": [
      "Suspicious looking maxima!\n",
      "Seems OK!\n",
      "Analyse this: data/inflammation-08.csv\n",
      "Seems OK!\n",
      "Analyse this: data/inflammation-03.csv\n",
      "Suspicious looking maxima!\n",
      "Suspicious looking maxima!\n",
      "Suspicious looking maxima!\n",
      "Seems OK!\n",
      "Analyse this: data/inflammation-11.csv\n",
      "Suspicious looking maxima!\n",
      "Suspicious looking maxima!\n",
      "Suspicious looking maxima!\n",
      "Suspicious looking maxima!\n",
      "Suspicious looking maxima!\n"
     ]
    }
   ],
   "source": [
    "filenames = glob.glob('data/inflammation*.csv')\n",
    "for filename in filenames:\n",
    "    if not detect_problems(filename):\n",
    "        print('Analyse this:', filename)"
   ]
  },
  {
   "cell_type": "markdown",
   "metadata": {},
   "source": [
    "### Testing and Documenting"
   ]
  },
  {
   "cell_type": "code",
   "execution_count": 24,
   "metadata": {},
   "outputs": [],
   "source": [
    "def offset_mean(data, target_mean_value):\n",
    "    return (data - numpy.mean(data)) + target_mean_value"
   ]
  },
  {
   "cell_type": "code",
   "execution_count": null,
   "metadata": {},
   "outputs": [],
   "source": []
  }
 ],
 "metadata": {
  "kernelspec": {
   "display_name": "Python [anaconda3]",
   "language": "python",
   "name": "Python [anaconda3]"
  },
  "language_info": {
   "codemirror_mode": {
    "name": "ipython",
    "version": 3
   },
   "file_extension": ".py",
   "mimetype": "text/x-python",
   "name": "python",
   "nbconvert_exporter": "python",
   "pygments_lexer": "ipython3",
   "version": "3.5.4"
  }
 },
 "nbformat": 4,
 "nbformat_minor": 2
}
