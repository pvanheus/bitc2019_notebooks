{
 "cells": [
  {
   "cell_type": "code",
   "execution_count": 1,
   "metadata": {},
   "outputs": [],
   "source": [
    "import glob"
   ]
  },
  {
   "cell_type": "code",
   "execution_count": 2,
   "metadata": {},
   "outputs": [
    {
     "name": "stdout",
     "output_type": "stream",
     "text": [
      "['data/inflammation-07.csv', 'data/inflammation-05.csv', 'data/inflammation-02.csv', 'data/inflammation-06.csv', 'data/inflammation-01.csv', 'data/inflammation-10.csv', 'data/inflammation-12.csv', 'data/inflammation-09.csv', 'data/inflammation-04.csv', 'data/inflammation-03.csv', 'data/inflammation-11.csv', 'data/inflammation-08.csv']\n"
     ]
    }
   ],
   "source": [
    "filenames = glob.glob('data/inflammation*.csv')\n",
    "print(filenames)"
   ]
  },
  {
   "cell_type": "code",
   "execution_count": 4,
   "metadata": {},
   "outputs": [],
   "source": [
    "import numpy\n",
    "import matplotlib.pyplot as plt"
   ]
  },
  {
   "cell_type": "code",
   "execution_count": 5,
   "metadata": {},
   "outputs": [
    {
     "name": "stdout",
     "output_type": "stream",
     "text": [
      "['data/inflammation-01.csv', 'data/inflammation-02.csv', 'data/inflammation-03.csv', 'data/inflammation-04.csv', 'data/inflammation-05.csv', 'data/inflammation-06.csv', 'data/inflammation-07.csv', 'data/inflammation-08.csv', 'data/inflammation-09.csv', 'data/inflammation-10.csv', 'data/inflammation-11.csv', 'data/inflammation-12.csv']\n"
     ]
    }
   ],
   "source": [
    "print(sorted(filenames))"
   ]
  },
  {
   "cell_type": "code",
   "execution_count": 6,
   "metadata": {},
   "outputs": [
    {
     "name": "stdout",
     "output_type": "stream",
     "text": [
      "['/data/home/pvh/loadingdata.ipynb', '/data/home/pvh/code', '/data/home/pvh/session4_loops.ipynb', '/data/home/pvh/set_password.py', '/data/home/pvh/user-creation.log', '/data/home/pvh/hello.sh', '/data/home/pvh/python-novice-inflammation-code.zip', '/data/home/pvh/data', '/data/home/pvh/session5_lists.ipynb', '/data/home/pvh/file2.bam', '/data/home/pvh/session3.ipynb', '/data/home/pvh/python-novice-inflammation-data.zip', '/data/home/pvh/session6_multiple_files.ipynb', '/data/home/pvh/session1.ipynb', '/data/home/pvh/users.csv']\n"
     ]
    }
   ],
   "source": [
    "otherfiles = glob.glob('/data/home/pvh/*')\n",
    "print(otherfiles)"
   ]
  },
  {
   "cell_type": "code",
   "execution_count": 7,
   "metadata": {},
   "outputs": [
    {
     "name": "stdout",
     "output_type": "stream",
     "text": [
      "[]\n"
     ]
    }
   ],
   "source": [
    "otherfiles = glob.glob('~/*')\n",
    "print(otherfiles)"
   ]
  },
  {
   "cell_type": "code",
   "execution_count": 14,
   "metadata": {},
   "outputs": [
    {
     "name": "stdout",
     "output_type": "stream",
     "text": [
      "data/inflammation-01.csv 6.14875\n",
      "data/inflammation-02.csv 5.990833333333334\n",
      "data/inflammation-03.csv 4.204583333333333\n",
      "data/inflammation-04.csv 6.109583333333333\n",
      "data/inflammation-05.csv 6.118333333333333\n",
      "data/inflammation-06.csv 6.043333333333333\n",
      "data/inflammation-07.csv 6.019583333333333\n",
      "data/inflammation-08.csv 4.204583333333333\n",
      "data/inflammation-09.csv 6.032916666666667\n",
      "data/inflammation-10.csv 6.0525\n",
      "data/inflammation-11.csv 4.204583333333333\n",
      "data/inflammation-12.csv 6.0616666666666665\n"
     ]
    }
   ],
   "source": [
    "filenames = glob.glob('data/inflammation*.csv')\n",
    "filenames = sorted(filenames)\n",
    "\n",
    "for filename in filenames:\n",
    "    data = numpy.loadtxt(fname=filename, delimiter=',')\n",
    "    print(filename, numpy.mean(data))"
   ]
  },
  {
   "cell_type": "code",
   "execution_count": 9,
   "metadata": {},
   "outputs": [
    {
     "name": "stdout",
     "output_type": "stream",
     "text": [
      "6.14875\n"
     ]
    }
   ],
   "source": [
    "data = numpy.loadtxt(fname='data/inflammation-01.csv', delimiter=',')\n",
    "print(data.mean())"
   ]
  },
  {
   "cell_type": "code",
   "execution_count": 15,
   "metadata": {},
   "outputs": [
    {
     "name": "stdout",
     "output_type": "stream",
     "text": [
      "6.14875\n"
     ]
    }
   ],
   "source": [
    "filename = 'data/inflammation-01.csv'\n",
    "data = numpy.loadtxt(fname=filename, delimiter=',')\n",
    "print(numpy.mean(data))"
   ]
  },
  {
   "cell_type": "code",
   "execution_count": 16,
   "metadata": {},
   "outputs": [
    {
     "name": "stdout",
     "output_type": "stream",
     "text": [
      "6.14875\n"
     ]
    }
   ],
   "source": [
    "filenames = glob.glob('data/inflammation*.csv')\n",
    "filenames = sorted(filenames)\n",
    "\n",
    "filename = filenames[0]\n",
    "data = numpy.loadtxt(fname=filename, delimiter=',')\n",
    "print(numpy.mean(data))"
   ]
  },
  {
   "cell_type": "code",
   "execution_count": 17,
   "metadata": {},
   "outputs": [
    {
     "name": "stdout",
     "output_type": "stream",
     "text": [
      "data/inflammation-01.csv 6.14875\n",
      "data/inflammation-02.csv 5.990833333333334\n"
     ]
    }
   ],
   "source": [
    "filenames = glob.glob('data/inflammation*.csv')\n",
    "filenames = sorted(filenames)\n",
    "\n",
    "filename = filenames[0]\n",
    "data = numpy.loadtxt(fname=filename, delimiter=',')\n",
    "print(filename, numpy.mean(data))\n",
    "\n",
    "filename = filenames[1]\n",
    "data = numpy.loadtxt(fname=filename, delimiter=',')\n",
    "print(filename, numpy.mean(data))"
   ]
  },
  {
   "cell_type": "markdown",
   "metadata": {},
   "source": [
    "### Plotting multiple files"
   ]
  },
  {
   "cell_type": "code",
   "execution_count": 19,
   "metadata": {},
   "outputs": [],
   "source": [
    "%matplotlib inline"
   ]
  },
  {
   "cell_type": "code",
   "execution_count": 18,
   "metadata": {},
   "outputs": [],
   "source": [
    "filenames = sorted(glob.glob('data/inflammation*.csv'))\n",
    "somefiles = filenames[:3]\n",
    "\n",
    "for filename in filenames:\n",
    "    print(filename)\n",
    "    \n",
    "    data = numpy.loadtxt(filename, delimiter=',')\n",
    "    \n",
    "    fig = plt.figure(figsize=(10.0, 3.0))\n",
    "    \n",
    "    axes1 = fig.add_subplot(1, 3, 1)\n",
    "    axes2 = fig.add_subplot(1,)"
   ]
  },
  {
   "cell_type": "code",
   "execution_count": null,
   "metadata": {},
   "outputs": [],
   "source": []
  }
 ],
 "metadata": {
  "kernelspec": {
   "display_name": "Python 3",
   "language": "python",
   "name": "python3"
  },
  "language_info": {
   "codemirror_mode": {
    "name": "ipython",
    "version": 3
   },
   "file_extension": ".py",
   "mimetype": "text/x-python",
   "name": "python",
   "nbconvert_exporter": "python",
   "pygments_lexer": "ipython3",
   "version": "3.7.1"
  }
 },
 "nbformat": 4,
 "nbformat_minor": 2
}
