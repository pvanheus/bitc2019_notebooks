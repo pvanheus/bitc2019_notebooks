{
 "cells": [
  {
   "cell_type": "code",
   "execution_count": 1,
   "metadata": {},
   "outputs": [],
   "source": [
    "import glob"
   ]
  },
  {
   "cell_type": "code",
   "execution_count": 2,
   "metadata": {},
   "outputs": [
    {
     "name": "stdout",
     "output_type": "stream",
     "text": [
      "['data/inflammation-07.csv', 'data/inflammation-05.csv', 'data/inflammation-02.csv', 'data/inflammation-06.csv', 'data/inflammation-01.csv', 'data/inflammation-10.csv', 'data/inflammation-12.csv', 'data/inflammation-09.csv', 'data/inflammation-04.csv', 'data/inflammation-03.csv', 'data/inflammation-11.csv', 'data/inflammation-08.csv']\n"
     ]
    }
   ],
   "source": [
    "filenames = glob.glob('data/inflammation*.csv')\n",
    "print(filenames)"
   ]
  },
  {
   "cell_type": "code",
   "execution_count": 4,
   "metadata": {},
   "outputs": [],
   "source": [
    "import numpy\n",
    "import matplotlib.pyplot as plt"
   ]
  },
  {
   "cell_type": "code",
   "execution_count": 5,
   "metadata": {},
   "outputs": [
    {
     "name": "stdout",
     "output_type": "stream",
     "text": [
      "['data/inflammation-01.csv', 'data/inflammation-02.csv', 'data/inflammation-03.csv', 'data/inflammation-04.csv', 'data/inflammation-05.csv', 'data/inflammation-06.csv', 'data/inflammation-07.csv', 'data/inflammation-08.csv', 'data/inflammation-09.csv', 'data/inflammation-10.csv', 'data/inflammation-11.csv', 'data/inflammation-12.csv']\n"
     ]
    }
   ],
   "source": [
    "print(sorted(filenames))"
   ]
  },
  {
   "cell_type": "code",
   "execution_count": 6,
   "metadata": {},
   "outputs": [
    {
     "name": "stdout",
     "output_type": "stream",
     "text": [
      "['/data/home/pvh/loadingdata.ipynb', '/data/home/pvh/code', '/data/home/pvh/session4_loops.ipynb', '/data/home/pvh/set_password.py', '/data/home/pvh/user-creation.log', '/data/home/pvh/hello.sh', '/data/home/pvh/python-novice-inflammation-code.zip', '/data/home/pvh/data', '/data/home/pvh/session5_lists.ipynb', '/data/home/pvh/file2.bam', '/data/home/pvh/session3.ipynb', '/data/home/pvh/python-novice-inflammation-data.zip', '/data/home/pvh/session6_multiple_files.ipynb', '/data/home/pvh/session1.ipynb', '/data/home/pvh/users.csv']\n"
     ]
    }
   ],
   "source": [
    "otherfiles = glob.glob('/data/home/pvh/*')\n",
    "print(otherfiles)"
   ]
  },
  {
   "cell_type": "code",
   "execution_count": 7,
   "metadata": {},
   "outputs": [
    {
     "name": "stdout",
     "output_type": "stream",
     "text": [
      "[]\n"
     ]
    }
   ],
   "source": [
    "otherfiles = glob.glob('~/*')\n",
    "print(otherfiles)"
   ]
  },
  {
   "cell_type": "code",
   "execution_count": null,
   "metadata": {},
   "outputs": [],
   "source": []
  }
 ],
 "metadata": {
  "kernelspec": {
   "display_name": "Python 3",
   "language": "python",
   "name": "python3"
  },
  "language_info": {
   "codemirror_mode": {
    "name": "ipython",
    "version": 3
   },
   "file_extension": ".py",
   "mimetype": "text/x-python",
   "name": "python",
   "nbconvert_exporter": "python",
   "pygments_lexer": "ipython3",
   "version": "3.7.1"
  }
 },
 "nbformat": 4,
 "nbformat_minor": 2
}
