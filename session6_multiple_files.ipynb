{
 "cells": [
  {
   "cell_type": "code",
   "execution_count": null,
   "metadata": {},
   "outputs": [],
   "source": [
    "import glob"
   ]
  },
  {
   "cell_type": "code",
   "execution_count": null,
   "metadata": {},
   "outputs": [],
   "source": [
    "filenames = glob.glob('data/inflammation*.csv')\n",
    "print(filenames)"
   ]
  },
  {
   "cell_type": "code",
   "execution_count": null,
   "metadata": {},
   "outputs": [],
   "source": [
    "import numpy\n",
    "import matplotlib.pyplot as plt"
   ]
  },
  {
   "cell_type": "code",
   "execution_count": null,
   "metadata": {},
   "outputs": [],
   "source": [
    "print(sorted(filenames))"
   ]
  },
  {
   "cell_type": "code",
   "execution_count": null,
   "metadata": {},
   "outputs": [],
   "source": [
    "otherfiles = glob.glob('/data/home/pvh/*')\n",
    "print(otherfiles)"
   ]
  },
  {
   "cell_type": "code",
   "execution_count": null,
   "metadata": {},
   "outputs": [],
   "source": [
    "otherfiles = glob.glob('~/*')\n",
    "print(otherfiles)"
   ]
  },
  {
   "cell_type": "code",
   "execution_count": null,
   "metadata": {},
   "outputs": [],
   "source": [
    "filenames = glob.glob('data/inflammation*.csv')\n",
    "filenames = sorted(filenames)\n",
    "\n",
    "for filename in filenames:\n",
    "    data = numpy.loadtxt(fname=filename, delimiter=',')\n",
    "    print(filename, numpy.mean(data))"
   ]
  },
  {
   "cell_type": "code",
   "execution_count": null,
   "metadata": {},
   "outputs": [],
   "source": [
    "data = numpy.loadtxt(fname='data/inflammation-01.csv', delimiter=',')\n",
    "print(data.mean())"
   ]
  },
  {
   "cell_type": "code",
   "execution_count": null,
   "metadata": {},
   "outputs": [],
   "source": [
    "filename = 'data/inflammation-01.csv'\n",
    "data = numpy.loadtxt(fname=filename, delimiter=',')\n",
    "print(numpy.mean(data))"
   ]
  },
  {
   "cell_type": "code",
   "execution_count": null,
   "metadata": {},
   "outputs": [],
   "source": [
    "filenames = glob.glob('data/inflammation*.csv')\n",
    "filenames = sorted(filenames)\n",
    "\n",
    "filename = filenames[0]\n",
    "data = numpy.loadtxt(fname=filename, delimiter=',')\n",
    "print(numpy.mean(data))"
   ]
  },
  {
   "cell_type": "code",
   "execution_count": null,
   "metadata": {},
   "outputs": [],
   "source": [
    "filenames = glob.glob('data/inflammation*.csv')\n",
    "filenames = sorted(filenames)\n",
    "\n",
    "filename = filenames[0]\n",
    "data = numpy.loadtxt(fname=filename, delimiter=',')\n",
    "print(filename, numpy.mean(data))\n",
    "\n",
    "filename = filenames[1]\n",
    "data = numpy.loadtxt(fname=filename, delimiter=',')\n",
    "print(filename, numpy.mean(data))"
   ]
  },
  {
   "cell_type": "markdown",
   "metadata": {},
   "source": [
    "### Plotting multiple files"
   ]
  },
  {
   "cell_type": "code",
   "execution_count": null,
   "metadata": {},
   "outputs": [],
   "source": [
    "%matplotlib inline"
   ]
  },
  {
   "cell_type": "code",
   "execution_count": null,
   "metadata": {},
   "outputs": [],
   "source": [
    "filenames = sorted(glob.glob('data/inflammation*.csv'))\n",
    "somefiles = filenames[:3]\n",
    "\n",
    "for filename in somefiles:\n",
    "    print(filename)\n",
    "    \n",
    "    data = numpy.loadtxt(filename, delimiter=',')\n",
    "    \n",
    "    fig = plt.figure(figsize=(10.0, 3.0))\n",
    "    \n",
    "    axes1 = fig.add_subplot(1, 3, 1)\n",
    "    axes2 = fig.add_subplot(1, 3, 2)\n",
    "    axes3 = fig.add_subplot(1, 3, 3)\n",
    "    \n",
    "    axes1.set_ylabel('average')\n",
    "    axes1.plot(numpy.mean(data, axis=0))\n",
    "    \n",
    "    axes2.set_ylabel('max')\n",
    "    axes2.plot(numpy.max(data, axis=0))\n",
    "    \n",
    "    axes3.set_ylabel('min')\n",
    "    axes3.plot(numpy.min(data, axis=0))\n",
    "    \n",
    "    fig.tight_layout()\n",
    "    plt.show()"
   ]
  },
  {
   "cell_type": "code",
   "execution_count": null,
   "metadata": {},
   "outputs": [],
   "source": [
    "filenames = sorted(glob.glob('data/inflammation*.csv'))\n",
    "somefiles = filenames[:3]\n",
    "\n",
    "for filename in somefiles:\n",
    "    print(filename)\n",
    "    \n",
    "    data = numpy.loadtxt(filename, delimiter=',')\n",
    "    \n",
    "    fig = plt.figure(figsize=(10.0, 3.0))\n",
    "    \n",
    "    axes = []\n",
    "    for i in range(3):\n",
    "        axes.append(fig.add_subplot(1, 3, i+1))\n",
    "    \n",
    "    axes[0].set_ylabel('average')\n",
    "    axes[0].plot(numpy.mean(data, axis=0))\n",
    "    \n",
    "    axes[1].set_ylabel('max')\n",
    "    axes[1].plot(numpy.max(data, axis=0))\n",
    "    \n",
    "    axes[2].set_ylabel('min')\n",
    "    axes[2].plot(numpy.min(data, axis=0))\n",
    "    \n",
    "    fig.tight_layout()\n",
    "    plt.show()"
   ]
  },
  {
   "cell_type": "code",
   "execution_count": null,
   "metadata": {},
   "outputs": [],
   "source": [
    "filenames = sorted(glob.glob('data/inflammation*.csv'))\n",
    "two_files = filenames[:2]\n",
    "\n",
    "dataset1 = numpy.loadtxt(fname=two_files[0], delimiter=',')\n",
    "dataset2 = numpy.loadtxt(fname=two_files[1], delimiter=',')\n",
    "diff = dataset2 - dataset1\n",
    "\n",
    "image = plt.imshow(diff)\n",
    "plt.show()"
   ]
  },
  {
   "cell_type": "code",
   "execution_count": null,
   "metadata": {},
   "outputs": [],
   "source": [
    "filenames = sorted(glob.glob('data/inflammation*.csv'))\n",
    "two_files = filenames[:2]\n",
    "\n",
    "datasets = []\n",
    "for filename in two_files:\n",
    "    data = numpy.loadtxt(fname=filename, delimiter=',')\n",
    "    datasets.append(data)\n",
    "    \n",
    "for i in range(1, len(two_files)):\n",
    "    diff = datasets[i] - datasets[i-1]\n",
    "\n",
    "image = plt.imshow(diff)\n",
    "plt.show()"
   ]
  },
  {
   "cell_type": "code",
   "execution_count": null,
   "metadata": {},
   "outputs": [],
   "source": [
    "numbers = [1, 2, 3, 4, 5]\n",
    "double = []\n",
    "for number in numbers:\n",
    "    double.append(number * 2)\n",
    "print(double)"
   ]
  },
  {
   "cell_type": "code",
   "execution_count": null,
   "metadata": {},
   "outputs": [],
   "source": [
    "numbers = [1, 2, 3, 4, 5]\n",
    "for i in range(len(numbers)):\n",
    "    numbers[i] = numbers[i] * 2\n",
    "print(numbers)"
   ]
  },
  {
   "cell_type": "code",
   "execution_count": null,
   "metadata": {},
   "outputs": [],
   "source": [
    "numbers = [1, 2, 3, 4, 5]\n",
    "new_numbers = numbers[:]\n",
    "for i in range(1, len(numbers)):\n",
    "    new_numbers[i] = numbers[i] + numbers[i-1]\n",
    "print(new_numbers)"
   ]
  },
  {
   "cell_type": "code",
   "execution_count": null,
   "metadata": {},
   "outputs": [],
   "source": []
  }
 ],
 "metadata": {
  "kernelspec": {
   "display_name": "Python 3",
   "language": "python",
   "name": "python3"
  },
  "language_info": {
   "codemirror_mode": {
    "name": "ipython",
    "version": 3
   },
   "file_extension": ".py",
   "mimetype": "text/x-python",
   "name": "python",
   "nbconvert_exporter": "python",
   "pygments_lexer": "ipython3",
   "version": "3.7.1"
  }
 },
 "nbformat": 4,
 "nbformat_minor": 2
}
