{
 "cells": [
  {
   "cell_type": "code",
   "execution_count": 2,
   "metadata": {},
   "outputs": [
    {
     "name": "stdout",
     "output_type": "stream",
     "text": [
      "5 5 5 5\n"
     ]
    }
   ],
   "source": [
    "dna = \"ATCGATCGATCGTACGCTGA\"\n",
    "a_count = dna.count(\"A\")\n",
    "t_count = dna.count(\"T\")\n",
    "g_count = dna.count(\"G\")\n",
    "c_count = dna.count(\"C\")\n",
    "print(a_count, t_count, c_count, g_count)"
   ]
  },
  {
   "cell_type": "code",
   "execution_count": 3,
   "metadata": {},
   "outputs": [],
   "source": [
    "dna = \"ATCGATCGATCGTACGCTGA\"\n",
    "aa_count = dna.count(\"AA\")\n",
    "at_count = dna.count(\"AT\")\n",
    "ag_count = dna.count(\"AG\")\n",
    "ac_count = dna.count(\"AC\")\n",
    "ta_count = dna.count(\"TA\")\n",
    "# ... more up till 16 variables"
   ]
  },
  {
   "cell_type": "code",
   "execution_count": 5,
   "metadata": {},
   "outputs": [],
   "source": [
    "# dictionary of base counts\n",
    "base_counts = { 'A': 5,\n",
    "                'T': 5,\n",
    "                'G': 5,\n",
    "                'C': 5 }"
   ]
  },
  {
   "cell_type": "code",
   "execution_count": 6,
   "metadata": {},
   "outputs": [
    {
     "name": "stdout",
     "output_type": "stream",
     "text": [
      "A count: 5\n"
     ]
    }
   ],
   "source": [
    "print(\"A count:\", base_counts[\"A\"])"
   ]
  },
  {
   "cell_type": "code",
   "execution_count": 8,
   "metadata": {},
   "outputs": [],
   "source": [
    "bio_classes = { \n",
    "\"Alphaproteobacteria\": 18,\n",
    "\"Betaproteobacteria\": 3,\n",
    "\"Gammaproteobacteria\": 11,\n",
    "\"Deltaproteobacteria\": 7\n",
    "}"
   ]
  },
  {
   "cell_type": "code",
   "execution_count": 9,
   "metadata": {},
   "outputs": [
    {
     "name": "stdout",
     "output_type": "stream",
     "text": [
      "Deltaproteobacteria count 7\n"
     ]
    }
   ],
   "source": [
    "print(\"Deltaproteobacteria count\", bio_classes[\"Deltaproteobacteria\"])"
   ]
  },
  {
   "cell_type": "code",
   "execution_count": 10,
   "metadata": {},
   "outputs": [],
   "source": [
    "bio_classes = {}\n",
    "bio_classes[\"Alphaproteobacteria\"] = 18\n",
    "bio_classes[\"Betaproteobacteria\"] = 3\n",
    "bio_classes[\"Gammaproteobacteria\"] = 11\n",
    "bio_classes[\"Deltaproteobacteria\"] = 7"
   ]
  },
  {
   "cell_type": "code",
   "execution_count": 11,
   "metadata": {},
   "outputs": [
    {
     "name": "stdout",
     "output_type": "stream",
     "text": [
      "{'Alphaproteobacteria': 18, 'Betaproteobacteria': 3, 'Gammaproteobacteria': 11, 'Deltaproteobacteria': 7}\n"
     ]
    }
   ],
   "source": [
    "print(bio_classes)"
   ]
  },
  {
   "cell_type": "code",
   "execution_count": 12,
   "metadata": {},
   "outputs": [],
   "source": [
    "dna = \"ATCGATCGATCGTACGCTGA\"\n",
    "dinucleotide_counts = {}\n",
    "dinucleotide_counts[\"AA\"] = dna.count(\"AA\")"
   ]
  },
  {
   "cell_type": "code",
   "execution_count": null,
   "metadata": {},
   "outputs": [],
   "source": [
    "dna = \"ATCGATCGATCGTACGCTGA\"\n",
    "bases = [\"A\", \"T\", \"C\", \"G\"]\n",
    "base_counts = {}\n"
   ]
  }
 ],
 "metadata": {
  "kernelspec": {
   "display_name": "Python 3",
   "language": "python",
   "name": "python3"
  },
  "language_info": {
   "codemirror_mode": {
    "name": "ipython",
    "version": 3
   },
   "file_extension": ".py",
   "mimetype": "text/x-python",
   "name": "python",
   "nbconvert_exporter": "python",
   "pygments_lexer": "ipython3",
   "version": "3.7.1"
  }
 },
 "nbformat": 4,
 "nbformat_minor": 2
}
