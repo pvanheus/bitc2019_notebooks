{
 "cells": [
  {
   "cell_type": "code",
   "execution_count": 2,
   "metadata": {},
   "outputs": [
    {
     "name": "stdout",
     "output_type": "stream",
     "text": [
      "5 5 5 5\n"
     ]
    }
   ],
   "source": [
    "dna = \"ATCGATCGATCGTACGCTGA\"\n",
    "a_count = dna.count(\"A\")\n",
    "t_count = dna.count(\"T\")\n",
    "g_count = dna.count(\"G\")\n",
    "c_count = dna.count(\"C\")\n",
    "print(a_count, t_count, c_count, g_count)"
   ]
  },
  {
   "cell_type": "code",
   "execution_count": 3,
   "metadata": {},
   "outputs": [],
   "source": [
    "dna = \"ATCGATCGATCGTACGCTGA\"\n",
    "aa_count = dna.count(\"AA\")\n",
    "at_count = dna.count(\"AT\")\n",
    "ag_count = dna.count(\"AG\")\n",
    "ac_count = dna.count(\"AC\")\n",
    "ta_count = dna.count(\"TA\")\n",
    "# ... more up till 16 variables"
   ]
  },
  {
   "cell_type": "code",
   "execution_count": 5,
   "metadata": {},
   "outputs": [],
   "source": [
    "# dictionary of base counts\n",
    "base_counts = { 'A': 5,\n",
    "                'T': 5,\n",
    "                'G': 5,\n",
    "                'C': 5 }"
   ]
  },
  {
   "cell_type": "code",
   "execution_count": 6,
   "metadata": {},
   "outputs": [
    {
     "name": "stdout",
     "output_type": "stream",
     "text": [
      "A count: 5\n"
     ]
    }
   ],
   "source": [
    "print(\"A count:\", base_counts[\"A\"])"
   ]
  },
  {
   "cell_type": "code",
   "execution_count": 8,
   "metadata": {},
   "outputs": [],
   "source": [
    "bio_classes = { \n",
    "\"Alphaproteobacteria\": 18,\n",
    "\"Betaproteobacteria\": 3,\n",
    "\"Gammaproteobacteria\": 11,\n",
    "\"Deltaproteobacteria\": 7\n",
    "}"
   ]
  },
  {
   "cell_type": "code",
   "execution_count": 9,
   "metadata": {},
   "outputs": [
    {
     "name": "stdout",
     "output_type": "stream",
     "text": [
      "Deltaproteobacteria count 7\n"
     ]
    }
   ],
   "source": [
    "print(\"Deltaproteobacteria count\", bio_classes[\"Deltaproteobacteria\"])"
   ]
  },
  {
   "cell_type": "code",
   "execution_count": 10,
   "metadata": {},
   "outputs": [],
   "source": [
    "bio_classes = {}\n",
    "bio_classes[\"Alphaproteobacteria\"] = 18\n",
    "bio_classes[\"Betaproteobacteria\"] = 3\n",
    "bio_classes[\"Gammaproteobacteria\"] = 11\n",
    "bio_classes[\"Deltaproteobacteria\"] = 7"
   ]
  },
  {
   "cell_type": "code",
   "execution_count": 11,
   "metadata": {},
   "outputs": [
    {
     "name": "stdout",
     "output_type": "stream",
     "text": [
      "{'Alphaproteobacteria': 18, 'Betaproteobacteria': 3, 'Gammaproteobacteria': 11, 'Deltaproteobacteria': 7}\n"
     ]
    }
   ],
   "source": [
    "print(bio_classes)"
   ]
  },
  {
   "cell_type": "code",
   "execution_count": 12,
   "metadata": {},
   "outputs": [],
   "source": [
    "dna = \"ATCGATCGATCGTACGCTGA\"\n",
    "dinucleotide_counts = {}\n",
    "dinucleotide_counts[\"AA\"] = dna.count(\"AA\")"
   ]
  },
  {
   "cell_type": "code",
   "execution_count": 13,
   "metadata": {},
   "outputs": [
    {
     "name": "stdout",
     "output_type": "stream",
     "text": [
      "A count 5\n",
      "T count 5\n",
      "C count 5\n",
      "G count 5\n"
     ]
    }
   ],
   "source": [
    "dna = \"ATCGATCGATCGTACGCTGA\"\n",
    "bases = [\"A\", \"T\", \"C\", \"G\"]\n",
    "base_counts = {}\n",
    "for base in bases:\n",
    "    base_counts[base] = dna.count(base)\n",
    "    print(base, \"count\", base_counts[base])"
   ]
  },
  {
   "cell_type": "code",
   "execution_count": 14,
   "metadata": {},
   "outputs": [
    {
     "name": "stdout",
     "output_type": "stream",
     "text": [
      "{'A': 5, 'T': 5, 'C': 5, 'G': 5}\n"
     ]
    }
   ],
   "source": [
    "print(base_counts)"
   ]
  },
  {
   "cell_type": "code",
   "execution_count": 16,
   "metadata": {},
   "outputs": [
    {
     "name": "stdout",
     "output_type": "stream",
     "text": [
      "AA\n",
      "AT\n",
      "AC\n",
      "AG\n",
      "TA\n",
      "TT\n",
      "TC\n",
      "TG\n",
      "CA\n",
      "CT\n",
      "CC\n",
      "CG\n",
      "GA\n",
      "GT\n",
      "GC\n",
      "GG\n"
     ]
    }
   ],
   "source": [
    "dna = \"ATCGATCGATCGTACGCTGA\"\n",
    "bases = [\"A\", \"T\", \"C\", \"G\"]\n",
    "dinucleotide_counts = {}\n",
    "for base1 in bases:\n",
    "    for base2 in bases:\n",
    "        dinucleotide = base1 + base2\n",
    "        dinucleotide_counts[dinucleotide] = dna.count(dinu)\n",
    "        print(dinucleotide)"
   ]
  },
  {
   "cell_type": "code",
   "execution_count": null,
   "metadata": {},
   "outputs": [],
   "source": []
  }
 ],
 "metadata": {
  "kernelspec": {
   "display_name": "Python 3",
   "language": "python",
   "name": "python3"
  },
  "language_info": {
   "codemirror_mode": {
    "name": "ipython",
    "version": 3
   },
   "file_extension": ".py",
   "mimetype": "text/x-python",
   "name": "python",
   "nbconvert_exporter": "python",
   "pygments_lexer": "ipython3",
   "version": "3.7.1"
  }
 },
 "nbformat": 4,
 "nbformat_minor": 2
}
