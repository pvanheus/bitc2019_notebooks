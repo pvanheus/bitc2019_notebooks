{
 "cells": [
  {
   "cell_type": "code",
   "execution_count": 3,
   "metadata": {},
   "outputs": [
    {
     "name": "stdout",
     "output_type": "stream",
     "text": [
      "wrote: BUG1.tsv\n"
     ]
    }
   ],
   "source": [
    "import requests\n",
    "\n",
    "# fetch using requests\n",
    "url = 'https://github.com/pvanheus/bitc2019_notebooks/blob/master/BUG1.tsv'\n",
    "response = requests.get(url)\n",
    "if response.status_code == 200:\n",
    "    output_filename = 'BUG1.tsv'\n",
    "    output_file = open(output_filename, 'wb')\n",
    "    output_file.write(response.content)\n",
    "    output_file.close()\n",
    "print('wrote:', output_filename)"
   ]
  },
  {
   "cell_type": "code",
   "execution_count": 7,
   "metadata": {},
   "outputs": [
    {
     "name": "stdout",
     "output_type": "stream",
     "text": [
      "😀 world\n",
      "0x1f600\n"
     ]
    }
   ],
   "source": [
    "# unicode at work\n",
    "mystring = '😀'\n",
    "print(mystring, 'world')\n",
    "print('unicode code poinhex(ord(mystring)))"
   ]
  },
  {
   "cell_type": "code",
   "execution_count": null,
   "metadata": {},
   "outputs": [],
   "source": []
  }
 ],
 "metadata": {
  "kernelspec": {
   "display_name": "Python [anaconda3]",
   "language": "python",
   "name": "Python [anaconda3]"
  },
  "language_info": {
   "codemirror_mode": {
    "name": "ipython",
    "version": 3
   },
   "file_extension": ".py",
   "mimetype": "text/x-python",
   "name": "python",
   "nbconvert_exporter": "python",
   "pygments_lexer": "ipython3",
   "version": "3.5.4"
  }
 },
 "nbformat": 4,
 "nbformat_minor": 2
}
