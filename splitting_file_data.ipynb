{
 "cells": [
  {
   "cell_type": "code",
   "execution_count": 11,
   "metadata": {},
   "outputs": [
    {
     "name": "stdout",
     "output_type": "stream",
     "text": [
      "wrote: BUG1.tsv\n"
     ]
    }
   ],
   "source": [
    "import requests\n",
    "\n",
    "# fetch using requests\n",
    "url = 'https://raw.githubusercontent.com/pvanheus/bitc2019_notebooks/master/BUG1.tsv'\n",
    "response = requests.get(url)\n",
    "if response.status_code == 200:\n",
    "    output_filename = 'BUG1.tsv'\n",
    "    output_file = open(output_filename, 'wb')\n",
    "    output_file.write(response.content)\n",
    "    output_file.close()\n",
    "print('wrote:', output_filename)"
   ]
  },
  {
   "cell_type": "code",
   "execution_count": 9,
   "metadata": {},
   "outputs": [
    {
     "name": "stdout",
     "output_type": "stream",
     "text": [
      "😀 world\n",
      "unicode code point for smiley emoji: 0x1f600\n"
     ]
    }
   ],
   "source": [
    "# unicode at work\n",
    "mystring = '😀'\n",
    "print(mystring, 'world')\n",
    "print('unicode code point for smiley emoji:', hex(ord(mystring)))"
   ]
  },
  {
   "cell_type": "code",
   "execution_count": 14,
   "metadata": {},
   "outputs": [
    {
     "data": {
      "text/plain": [
       "'BUG1cds1\\tPKP60081.1\\t29.0\\t138\\t96\\t2\\t7\\t143\\t8\\t144\\t2.5e-07\\t65.5\\t209\\t217\\t63.1\\tPKP60081.1 hypothetical protein CVT88_04030 [Candidatus Altiarchaeales archaeon HGW-Altiarchaeales-1]\\t2013673\\tArchaea\\tEuryarchaeota\\tUNKNOWN\\tCandidatus Altiarchaeales\\tUNKNOWN\\tUNKNOWN\\tCandidatus Altiarchaeales archaeon HGW-Altiarchaeales-1\\nBUG1cds1\\tPJI86295.1\\t36.6\\t71\\t39\\t3\\t22\\t90\\t175\\t241\\t8.7e+00\\t40.4\\t295\\t217\\t31.8\\tPJI86295.1 4-diph'"
      ]
     },
     "execution_count": 14,
     "metadata": {},
     "output_type": "execute_result"
    }
   ],
   "source": [
    "input_filename = 'BUG1.tsv'\n",
    "input_file = open(input_filename)\n",
    "data = input_file.read(400)\n",
    "input_file.close()\n",
    "data"
   ]
  },
  {
   "cell_type": "code",
   "execution_count": 15,
   "metadata": {},
   "outputs": [
    {
     "name": "stdout",
     "output_type": "stream",
     "text": [
      "BUG1cds1\tPKP60081.1\t29.0\t138\t96\t2\t7\t143\t8\t144\t2.5e-07\t65.5\t209\t217\t63.1\tPKP60081.1 hypothetical protein CVT88_04030 [Candidatus Altiarchaeales archaeon HGW-Altiarchaeales-1]\t2013673\tArchaea\tEuryarchaeota\tUNKNOWN\tCandidatus Altiarchaeales\tUNKNOWN\tUNKNOWN\tCandidatus Altiarchaeales archaeon HGW-Altiarchaeales-1\n",
      "BUG1cds1\tPJI86295.1\t36.6\t71\t39\t3\t22\t90\t175\t241\t8.7e+00\t40.4\t295\t217\t31.8\tPJI86295.1 4-diph\n"
     ]
    }
   ],
   "source": [
    "print(data)"
   ]
  },
  {
   "cell_type": "code",
   "execution_count": null,
   "metadata": {},
   "outputs": [],
   "source": []
  }
 ],
 "metadata": {
  "kernelspec": {
   "display_name": "Python [anaconda3]",
   "language": "python",
   "name": "Python [anaconda3]"
  },
  "language_info": {
   "codemirror_mode": {
    "name": "ipython",
    "version": 3
   },
   "file_extension": ".py",
   "mimetype": "text/x-python",
   "name": "python",
   "nbconvert_exporter": "python",
   "pygments_lexer": "ipython3",
   "version": "3.5.4"
  }
 },
 "nbformat": 4,
 "nbformat_minor": 2
}
