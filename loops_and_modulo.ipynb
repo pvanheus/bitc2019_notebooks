{
 "cells": [
  {
   "cell_type": "code",
   "execution_count": 7,
   "metadata": {},
   "outputs": [
    {
     "name": "stdout",
     "output_type": "stream",
     "text": [
      "ctg\n",
      "taa\n",
      "ctt\n",
      "tgg\n",
      "ctc\n"
     ]
    }
   ],
   "source": [
    "dna = 'ctgtaacttagttggctctttcgtagcccattgtcgggctagctatttcactcccgcgggggtctccgcgtggatggt'\n",
    "codon1 = dna[0:3]\n",
    "codon2 = dna[3:6]\n",
    "codon3 = dna[6:9]\n",
    "codon4 = dna[12:15]\n",
    "codon5 = dna[15:18]\n",
    "print(codon1)\n",
    "print(codon2)\n",
    "print(codon3)\n",
    "print(codon4)\n",
    "print(codon5)"
   ]
  },
  {
   "cell_type": "markdown",
   "metadata": {},
   "source": [
    "*Complete the code below*"
   ]
  },
  {
   "cell_type": "code",
   "execution_count": null,
   "metadata": {},
   "outputs": [],
   "source": [
    "codon_list = []\n",
    "for i in range(0,___,3):\n",
    "    codon = dna[i:i+3]\n",
    "    codon_list.______(codon)\n",
    "for codon in codon_list:\n",
    "    print(codon)"
   ]
  },
  {
   "cell_type": "markdown",
   "metadata": {},
   "source": [
    "*Describe what the code does, in English*"
   ]
  },
  {
   "cell_type": "markdown",
   "metadata": {},
   "source": []
  },
  {
   "cell_type": "markdown",
   "metadata": {},
   "source": [
    "The module operator - `%` - also known as the remainder operator, shows what is left over from an integer division.\n",
    "\n",
    "E.g. 5 `%` 2 is 1, 4 % 2 is 0, etc. It is useful for choosing elements from a list of numbers."
   ]
  },
  {
   "cell_type": "code",
   "execution_count": 8,
   "metadata": {},
   "outputs": [
    {
     "data": {
      "text/plain": [
       "1"
      ]
     },
     "execution_count": 8,
     "metadata": {},
     "output_type": "execute_result"
    }
   ],
   "source": [
    "5 % 2"
   ]
  },
  {
   "cell_type": "code",
   "execution_count": null,
   "metadata": {},
   "outputs": [],
   "source": []
  }
 ],
 "metadata": {
  "kernelspec": {
   "display_name": "Python 3",
   "language": "python",
   "name": "python3"
  },
  "language_info": {
   "codemirror_mode": {
    "name": "ipython",
    "version": 3
   },
   "file_extension": ".py",
   "mimetype": "text/x-python",
   "name": "python",
   "nbconvert_exporter": "python",
   "pygments_lexer": "ipython3",
   "version": "3.7.1"
  }
 },
 "nbformat": 4,
 "nbformat_minor": 2
}
