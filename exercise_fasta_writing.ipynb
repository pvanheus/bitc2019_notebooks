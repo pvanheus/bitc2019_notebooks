{
 "cells": [
  {
   "cell_type": "markdown",
   "metadata": {},
   "source": [
    "From python for biologists p. 65\n",
    "#### Writing a FASTA file\n",
    "Write the following sequence data into a file (with the name `out.fasta`) in FASTA format. For example the first record should look like:\n",
    "\n",
    "```\n",
    "> ABC123\n",
    "ATCGTACGATCGATCGATCGCTAGACGTATCG\n",
    "```\n",
    "\n",
    "| header | sequence |\n",
    "| -------|: --------|\n",
    "| ABC123 | ATCGTACGATCGATCGATCGCTAGACGTATCG |\n",
    "| DEF456 | actgatcgacgatcgatcgatcacgact |\n",
    "| HIJ789 | ACTGAC-ACTGT--ACTGTA----CATGTG |\n",
    "\n",
    "*NOTE*: all sequences must be uppercase and only contain 'A', 'C', 'T' and 'G'"
   ]
  },
  {
   "cell_type": "markdown",
   "metadata": {},
   "source": [
    "#### Writing multiple FASTA files\n",
    "Write the same data, but this time each sequence must be in its own file.\n",
    "\n",
    "The name of the file should be the header name followed by `.fasta`, for example `ABC123.fasta`.\n"
   ]
  },
  {
   "cell_type": "code",
   "execution_count": null,
   "metadata": {},
   "outputs": [],
   "source": []
  }
 ],
 "metadata": {
  "kernelspec": {
   "display_name": "Python [anaconda3]",
   "language": "python",
   "name": "Python [anaconda3]"
  },
  "language_info": {
   "codemirror_mode": {
    "name": "ipython",
    "version": 3
   },
   "file_extension": ".py",
   "mimetype": "text/x-python",
   "name": "python",
   "nbconvert_exporter": "python",
   "pygments_lexer": "ipython3",
   "version": "3.5.4"
  }
 },
 "nbformat": 4,
 "nbformat_minor": 2
}
