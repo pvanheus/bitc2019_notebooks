{
 "cells": [
  {
   "cell_type": "markdown",
   "metadata": {},
   "source": [
    "From python for biologists p. 65\n",
    "#### Writing a FASTA file\n",
    "Write the following sequence data into a file (with the name `out.fasta`) in FASTA format. For example the first record should look like:\n",
    "\n",
    "```\n",
    ">ABC123\n",
    "ATCGTACGATCGATCGATCGCTAGACGTATCG\n",
    ">DEF456\n",
    "ACTGATCGACGATCGATCGATCACGACT\n",
    ">HIJ789\n",
    "ACTGACACTGTACTGTACATGTG\n",
    "```\n",
    "\n",
    "| header | sequence |\n",
    "| -------|: --------|\n",
    "| ABC123 | ATCGTACGATCGATCGATCGCTAGACGTATCG |\n",
    "| DEF456 | actgatcgacgatcgatcgatcacgact |\n",
    "| HIJ789 | ACTGAC-ACTGT--ACTGTA----CATGTG |\n",
    "\n",
    "*NOTE*: all sequences must be uppercase and only contain 'A', 'C', 'T' and 'G'"
   ]
  },
  {
   "cell_type": "markdown",
   "metadata": {},
   "source": [
    "#### Writing multiple FASTA files\n",
    "Write the same data, but this time each sequence must be in its own file.\n",
    "\n",
    "The name of the file should be the header name followed by `.fasta`, for example `ABC123.fasta`.\n"
   ]
  },
  {
   "cell_type": "code",
   "execution_count": 4,
   "metadata": {},
   "outputs": [
    {
     "name": "stdout",
     "output_type": "stream",
     "text": [
      ">ABC123\n",
      "ATCGTACGATCGATCGATCGCTAGACGTATCG\n",
      ">DEF456\n",
      "ACTGATCGACGATCGATCGATCACGACT\n",
      ">HIJ789\n",
      "ACTGACACTGTACTGTACATGTG\n",
      "\n"
     ]
    }
   ],
   "source": [
    "# 1. \n",
    "data = [['ABC123', 'ATCGTACGATCGATCGATCGCTAGACGTATCG'],\n",
    "       ['DEF456', 'actgatcgacgatcgatcgatcacgact'],\n",
    "       ['HIJ789', 'ACTGAC-ACTGT--ACTGTA----CATGTG']]\n",
    "\n",
    "output_filename = 'out.fasta'\n",
    "output_file = open(output_filename, 'w')\n",
    "for sequence_info in data:\n",
    "    header = '>' + sequence_info[0] + '\\n'\n",
    "    output_file.write(header)\n",
    "    sequence = sequence_info[1].upper().replace('-', '') + '\\n'\n",
    "    output_file.write(sequence)\n",
    "output_file.close()\n",
    "\n",
    "result = open(output_filename).read()\n",
    "print(result)"
   ]
  },
  {
   "cell_type": "code",
   "execution_count": 6,
   "metadata": {},
   "outputs": [
    {
     "name": "stdout",
     "output_type": "stream",
     "text": [
      ">ABC123\n",
      "ATCGTACGATCGATCGATCGCTAGACGTATCG\n",
      ">DEF456\n",
      "ACTGATCGACGATCGATCGATCACGACT\n",
      ">HIJ789\n",
      "ACTGACACTGTACTGTACATGTG\n",
      "\n"
     ]
    }
   ],
   "source": [
    "# 1. \n",
    "header1 = 'ABC123'\n",
    "seq1 = 'ATCGTACGATCGATCGATCGCTAGACGTATCG'\n",
    "header2 = 'DEF456'\n",
    "seq2 = 'actgatcgacgatcgatcgatcacgact'\n",
    "header3 = 'HIJ789'\n",
    "seq3 = 'ACTGAC-ACTGT--ACTGTA----CATGTG'\n",
    "\n",
    "output_filename = 'out.fasta'\n",
    "output_file = open(output_filename, 'w')\n",
    "output_file.write('>' + header1 + '\\n')\n",
    "output_file.write(seq1 + '\\n')\n",
    "output_file.write('>' + header2 + '\\n')\n",
    "output_file.write(seq2.upper() + '\\n')\n",
    "output_file.write('>' + header3 + '\\n')\n",
    "output_file.write(seq3.replace('-', '') + '\\n')\n",
    "output_file.close()\n",
    "\n",
    "result = open(output_filename).read()\n",
    "print(result)"
   ]
  },
  {
   "cell_type": "code",
   "execution_count": 7,
   "metadata": {},
   "outputs": [],
   "source": [
    "# 2. \n",
    "data = [['ABC123', 'ATCGTACGATCGATCGATCGCTAGACGTATCG'],\n",
    "       ['DEF456', 'actgatcgacgatcgatcgatcacgact'],\n",
    "       ['HIJ789', 'ACTGAC-ACTGT--ACTGTA----CATGTG']]\n",
    "\n",
    "for seq_info in data:\n",
    "    output_filename = seq_info[0] + '.fasta'\n",
    "    output_file = open(output_filename, 'w')\n",
    "    header = '>' + seq_info[0] + '\\n'\n",
    "    output_file.write(header)\n",
    "    sequence = seq_info[1].replace('-', '').upper() + '\\n'\n",
    "    output_file.write(sequence)\n",
    "    output_file.close()\n"
   ]
  },
  {
   "cell_type": "markdown",
   "metadata": {},
   "source": [
    "### Discussion"
   ]
  },
  {
   "cell_type": "code",
   "execution_count": 4,
   "metadata": {},
   "outputs": [
    {
     "name": "stdout",
     "output_type": "stream",
     "text": [
      ">ABC123\n",
      "ATCGTACGATCGATCGATCGCTAGACGTATCG\n",
      "\n",
      ">ABC123\n",
      "ATCGTACGATCGATCGATCGCTAGACGTATCG\n"
     ]
    }
   ],
   "source": [
    "# >ABC123\n",
    "# ATCGTACGATCGATCGATCGCTAGACGTATCG\n",
    "# >DEF456\n",
    "# ACTGATCGACGATCGATCGATCACGACT\n",
    "# >HIJ789\n",
    "# ACTGACACTGTACTGTACATGTG\n",
    "header1 = 'ABC123'\n",
    "sequence1 = 'ATCGTACGATCGATCGATCGCTAGACGTATCG'\n",
    "fasta1 = '>' + header1 + '\\n' + sequence1 + '\\n'\n",
    "print(fasta1)\n",
    "print('>', header1, '\\n', sequence1, sep='')"
   ]
  },
  {
   "cell_type": "code",
   "execution_count": 3,
   "metadata": {},
   "outputs": [
    {
     "name": "stdout",
     "output_type": "stream",
     "text": [
      "Help on built-in function print in module builtins:\n",
      "\n",
      "print(...)\n",
      "    print(value, ..., sep=' ', end='\\n', file=sys.stdout, flush=False)\n",
      "    \n",
      "    Prints the values to a stream, or to sys.stdout by default.\n",
      "    Optional keyword arguments:\n",
      "    file:  a file-like object (stream); defaults to the current sys.stdout.\n",
      "    sep:   string inserted between values, default a space.\n",
      "    end:   string appended after the last value, default a newline.\n",
      "    flush: whether to forcibly flush the stream.\n",
      "\n"
     ]
    }
   ],
   "source": [
    "help(print)"
   ]
  },
  {
   "cell_type": "code",
   "execution_count": null,
   "metadata": {},
   "outputs": [],
   "source": []
  }
 ],
 "metadata": {
  "kernelspec": {
   "display_name": "Python [anaconda3]",
   "language": "python",
   "name": "Python [anaconda3]"
  },
  "language_info": {
   "codemirror_mode": {
    "name": "ipython",
    "version": 3
   },
   "file_extension": ".py",
   "mimetype": "text/x-python",
   "name": "python",
   "nbconvert_exporter": "python",
   "pygments_lexer": "ipython3",
   "version": "3.5.4"
  }
 },
 "nbformat": 4,
 "nbformat_minor": 2
}
