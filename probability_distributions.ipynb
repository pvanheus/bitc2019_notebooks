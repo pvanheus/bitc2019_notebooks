{
 "cells": [
  {
   "cell_type": "code",
   "execution_count": 9,
   "metadata": {},
   "outputs": [],
   "source": [
    "import numpy\n",
    "import scipy.stats"
   ]
  },
  {
   "cell_type": "code",
   "execution_count": 29,
   "metadata": {},
   "outputs": [],
   "source": [
    "data = numpy.array([[0, 1, 2, 3], [1/8, 3/8, 3/8, 1/8]])"
   ]
  },
  {
   "cell_type": "code",
   "execution_count": 30,
   "metadata": {},
   "outputs": [
    {
     "data": {
      "text/plain": [
       "array([0., 1., 2., 3.])"
      ]
     },
     "execution_count": 30,
     "metadata": {},
     "output_type": "execute_result"
    }
   ],
   "source": [
    "# x\n",
    "data[0]"
   ]
  },
  {
   "cell_type": "code",
   "execution_count": 31,
   "metadata": {},
   "outputs": [
    {
     "data": {
      "text/plain": [
       "array([0.125, 0.375, 0.375, 0.125])"
      ]
     },
     "execution_count": 31,
     "metadata": {},
     "output_type": "execute_result"
    }
   ],
   "source": [
    "# P(x)\n",
    "data[1]"
   ]
  },
  {
   "cell_type": "code",
   "execution_count": 33,
   "metadata": {},
   "outputs": [
    {
     "name": "stdout",
     "output_type": "stream",
     "text": [
      "mean: 1.5\n"
     ]
    }
   ],
   "source": [
    "products = data[0] * data[1]\n",
    "mean = products.sum()\n",
    "print(\"mean:\", mean)"
   ]
  },
  {
   "cell_type": "markdown",
   "metadata": {},
   "source": [
    "$$v =\\sum{(x−u)}^2⋅(P(x))$$"
   ]
  },
  {
   "cell_type": "code",
   "execution_count": 35,
   "metadata": {},
   "outputs": [
    {
     "name": "stdout",
     "output_type": "stream",
     "text": [
      "variance: 0.75\n"
     ]
    }
   ],
   "source": [
    "products2 = (data[0] - mean)**2 * data[1]\n",
    "variance = products2.sum()\n",
    "print(\"variance:\", variance)"
   ]
  },
  {
   "cell_type": "markdown",
   "metadata": {},
   "source": [
    "$$v = \\sqrt{\\sum{(x−u)}^2⋅(P(x))}$$"
   ]
  },
  {
   "cell_type": "code",
   "execution_count": 37,
   "metadata": {},
   "outputs": [
    {
     "name": "stdout",
     "output_type": "stream",
     "text": [
      "sd: 0.8660254037844386\n"
     ]
    }
   ],
   "source": [
    "import math\n",
    "sd = math.sqrt(variance)\n",
    "print(\"sd:\", sd)"
   ]
  },
  {
   "cell_type": "code",
   "execution_count": 47,
   "metadata": {},
   "outputs": [
    {
     "name": "stdout",
     "output_type": "stream",
     "text": [
      "probability of exactly 4: 0.23113969609499954\n"
     ]
    }
   ],
   "source": [
    "import scipy.stats\n",
    "\n",
    "n = 12\n",
    "p = 0.3\n",
    "print(\"probability of exactly 4:\", scipy.stats.binom.pmf(4, n, p))"
   ]
  },
  {
   "cell_type": "code",
   "execution_count": 48,
   "metadata": {},
   "outputs": [
    {
     "name": "stdout",
     "output_type": "stream",
     "text": [
      "k: 4 probability: 0.23113969609499954\n",
      "k: 5 probability: 0.15849579160799987\n",
      "k: 6 probability: 0.0792478958039998\n",
      "k: 7 probability: 0.029111471927999948\n",
      "k: 8 probability: 0.007797715694999976\n",
      "k: 9 probability: 0.001485279179999999\n",
      "k: 10 probability: 0.00019096446599999942\n",
      "k: 11 probability: 1.488034799999997e-05\n",
      "k: 12 probability: 5.314409999999987e-07\n",
      "probability for 4 or more having a car: 0.507484226564999\n"
     ]
    }
   ],
   "source": [
    "# we want to sum the probability of 4, ... , 12\n",
    "total_probability = 0\n",
    "for k in range(4, 13):\n",
    "    prob = scipy.stats.binom.pmf(k, n, p)\n",
    "    print(\"k:\", k, \"probability:\", prob)\n",
    "    total_probability = total_probability + prob\n",
    "print(\"probability for 4 or more having a car:\", total_probability)"
   ]
  },
  {
   "cell_type": "code",
   "execution_count": 49,
   "metadata": {},
   "outputs": [
    {
     "data": {
      "image/png": "[encoded data removed]",
      "text/plain": [
       "<Figure size 432x288 with 1 Axes>"
      ]
     },
     "metadata": {},
     "output_type": "display_data"
    }
   ],
   "source": [
    "# plot the PMF for the binomial distribution\n",
    "import scipy.stats\n",
    "import matplotlib.pyplot as plt\n",
    "\n",
    "%matplotlib inline\n",
    "\n",
    "n = 12\n",
    "p = 0.3\n",
    "\n",
    "plt.plot(range(n+1), \n",
    "         [scipy.stats.binom.pmf(x, n, p) for x in range(n+1)])\n",
    "plt.show()"
   ]
  },
  {
   "cell_type": "code",
   "execution_count": null,
   "metadata": {},
   "outputs": [],
   "source": []
  }
 ],
 "metadata": {
  "kernelspec": {
   "display_name": "Python [anaconda3]",
   "language": "python",
   "name": "Python [anaconda3]"
  },
  "language_info": {
   "codemirror_mode": {
    "name": "ipython",
    "version": 3
   },
   "file_extension": ".py",
   "mimetype": "text/x-python",
   "name": "python",
   "nbconvert_exporter": "python",
   "pygments_lexer": "ipython3",
   "version": "3.5.4"
  }
 },
 "nbformat": 4,
 "nbformat_minor": 2
}
